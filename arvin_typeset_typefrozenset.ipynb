{
 "cells": [
  {
   "cell_type": "markdown",
   "id": "086b1637-72cd-4ecb-b602-1d59aad82094",
   "metadata": {},
   "source": [
    "# type set"
   ]
  },
  {
   "cell_type": "code",
   "execution_count": 6,
   "id": "f504723d-4b34-4011-b061-f95edddd7582",
   "metadata": {},
   "outputs": [
    {
     "name": "stdout",
     "output_type": "stream",
     "text": [
      "{32, 43, 11, 21}\n"
     ]
    }
   ],
   "source": [
    "#untuk membuat suatu himpunan kits perlu menggunakan fngsi set()\n",
    "#dan menyertakan runtunan nilai yang akan dijadkan sebagai elemen-elemen himpunan tersebut sbg parameternya\n",
    "#bentuk umum: nama_set = set(nilai1, nilai2, nilai3,...)\n",
    "\n",
    "arvin = set([11, 21, 32, 43])\n",
    "print(arvin)"
   ]
  },
  {
   "cell_type": "code",
   "execution_count": 32,
   "id": "6705e7b1-04b0-4035-b4a9-a0fc94270a5b",
   "metadata": {},
   "outputs": [
    {
     "name": "stdout",
     "output_type": "stream",
     "text": [
      "elemen awal:\n",
      "3311442255\n",
      "\n",
      "setelah penambahan add:\n",
      "33661144772255\n",
      "\n",
      "setelah penambahan update:\n",
      "336699114477225588\n",
      "\n",
      "setelah menggunakan remove:\n",
      "3366991177225588\n",
      "\n",
      "setelah pemanggilan clear:\n",
      "himpunan kosong\n",
      "\n"
     ]
    },
    {
     "ename": "SystemExit",
     "evalue": "1",
     "output_type": "error",
     "traceback": [
      "An exception has occurred, use %tb to see the full traceback.\n",
      "\u001b[1;31mSystemExit\u001b[0m\u001b[1;31m:\u001b[0m 1\n"
     ]
    }
   ],
   "source": [
    "#contoh program yang menunjukkan pembuatan dan penggunaan himpunan\n",
    "\n",
    "import sys\n",
    "def printelements(arvin, info):\n",
    "    print(info)\n",
    "    if len(arvin) == 0:\n",
    "        print(\"himpunan kosong\\n\")\n",
    "        sys.exit(1)\n",
    "    for e in arvin :\n",
    "        print(str(e) + \"\", end = '')\n",
    "    print(\"\\n\")\n",
    "\n",
    "#membuat himpunan\n",
    "arvin = set([11, 22, 33, 44, 55])\n",
    "printelements(arvin, \"elemen awal:\")\n",
    "\n",
    "#menambah anggota atau elemn baru\n",
    "#menggunakan metode add()\n",
    "arvin.add(66);\n",
    "arvin.add(77);\n",
    "printelements(arvin, \"setelah penambahan add:\")\n",
    "\n",
    "#menambah anggota atau elemn baru\n",
    "#menggunakan metode update()\n",
    "arvin.update([88, 99])\n",
    "printelements(arvin, \"setelah penambahan update:\")\n",
    "\n",
    "#menghapus elemen dengan nilai 44\n",
    "arvin.remove(44)\n",
    "printelements(arvin, \"setelah menggunakan remove:\" )\n",
    "\n",
    "#menghapus semua elemen\n",
    "arvin.clear()\n",
    "printelements(arvin, \"setelah pemanggilan clear:\")"
   ]
  },
  {
   "cell_type": "code",
   "execution_count": 40,
   "id": "e4f82973-249a-4547-940a-4bfc8ff00926",
   "metadata": {},
   "outputs": [
    {
     "name": "stdout",
     "output_type": "stream",
     "text": [
      "operasi union:\n",
      "{1, 2, 3, 4}\n",
      "operasi intersection:\n",
      "{3}\n",
      "operasi difference:\n",
      "{1, 2}\n",
      "operasi symmetric difference:\n",
      "{1, 2, 4}\n"
     ]
    }
   ],
   "source": [
    "#type set mendukung operasi2 himpunan seperti:\n",
    "\n",
    "x = set([1, 2, 3])\n",
    "y = set([3, 4])\n",
    "\n",
    "a = x | y #union\n",
    "print('operasi union:')\n",
    "print(a)\n",
    "\n",
    "b = x & y #intersection\n",
    "print('operasi intersection:')\n",
    "print(b)\n",
    "\n",
    "c = x - y #difference\n",
    "print('operasi difference:')\n",
    "print(c)\n",
    "\n",
    "d = x ^ y #symmetric difference\n",
    "print('operasi symmetric difference:')\n",
    "print(d)"
   ]
  },
  {
   "cell_type": "markdown",
   "id": "f00c09cf-44a3-4648-a357-84ea644d7e7f",
   "metadata": {},
   "source": [
    "# type frozenset"
   ]
  },
  {
   "cell_type": "code",
   "execution_count": 43,
   "id": "725b94b7-ed73-4e57-a7ec-f960bcb9ef11",
   "metadata": {},
   "outputs": [
    {
     "name": "stdout",
     "output_type": "stream",
     "text": [
      "frozenset({1, 2, 3})\n"
     ]
    }
   ],
   "source": [
    "#jika ingin mendefinisikan suatu himpunan yang tak bisa diubah, baik nilai maupun jumlah anggotanya\n",
    "#perlu menggunakan fungsi frozenset()\n",
    "#bentuk umum: nama_set = frozenset([nilai1,....])\n",
    "\n",
    "\n",
    "#contoh\n",
    "fs = frozenset([3, 2, 1])\n",
    "print(fs)"
   ]
  },
  {
   "cell_type": "code",
   "execution_count": 45,
   "id": "1f910b19-2e23-4ee3-91e0-343ed7d103a6",
   "metadata": {},
   "outputs": [
    {
     "name": "stdout",
     "output_type": "stream",
     "text": [
      "frozenset({1, 2, 3})\n"
     ]
    },
    {
     "ename": "AttributeError",
     "evalue": "'frozenset' object has no attribute 'add'",
     "output_type": "error",
     "traceback": [
      "\u001b[1;31m---------------------------------------------------------------------------\u001b[0m",
      "\u001b[1;31mAttributeError\u001b[0m                            Traceback (most recent call last)",
      "Cell \u001b[1;32mIn[45], line 4\u001b[0m\n\u001b[0;32m      2\u001b[0m fs \u001b[38;5;241m=\u001b[39m \u001b[38;5;28mfrozenset\u001b[39m([\u001b[38;5;241m3\u001b[39m, \u001b[38;5;241m2\u001b[39m, \u001b[38;5;241m1\u001b[39m])\n\u001b[0;32m      3\u001b[0m \u001b[38;5;28mprint\u001b[39m(fs)\n\u001b[1;32m----> 4\u001b[0m fs\u001b[38;5;241m.\u001b[39madd([\u001b[38;5;241m4\u001b[39m])\n",
      "\u001b[1;31mAttributeError\u001b[0m: 'frozenset' object has no attribute 'add'"
     ]
    }
   ],
   "source": [
    "#frozenset tidak punya metode add\n",
    "fs = frozenset([3, 2, 1])\n",
    "print(fs)\n",
    "fs.add([4])"
   ]
  },
  {
   "cell_type": "code",
   "execution_count": 47,
   "id": "6eabfe7f-01ad-4379-b07d-c36d5cdefd6a",
   "metadata": {},
   "outputs": [
    {
     "name": "stdout",
     "output_type": "stream",
     "text": [
      "frozenset({1, 2, 3})\n"
     ]
    },
    {
     "ename": "AttributeError",
     "evalue": "'frozenset' object has no attribute 'remove'",
     "output_type": "error",
     "traceback": [
      "\u001b[1;31m---------------------------------------------------------------------------\u001b[0m",
      "\u001b[1;31mAttributeError\u001b[0m                            Traceback (most recent call last)",
      "Cell \u001b[1;32mIn[47], line 4\u001b[0m\n\u001b[0;32m      2\u001b[0m fs \u001b[38;5;241m=\u001b[39m \u001b[38;5;28mfrozenset\u001b[39m([\u001b[38;5;241m3\u001b[39m, \u001b[38;5;241m2\u001b[39m, \u001b[38;5;241m1\u001b[39m])\n\u001b[0;32m      3\u001b[0m \u001b[38;5;28mprint\u001b[39m(fs)\n\u001b[1;32m----> 4\u001b[0m fs\u001b[38;5;241m.\u001b[39mremove([\u001b[38;5;241m4\u001b[39m])\n",
      "\u001b[1;31mAttributeError\u001b[0m: 'frozenset' object has no attribute 'remove'"
     ]
    }
   ],
   "source": [
    "#frozenset tidak punya metode remove\n",
    "fs = frozenset([3, 2, 1])\n",
    "print(fs)\n",
    "fs.remove([4])"
   ]
  },
  {
   "cell_type": "code",
   "execution_count": 49,
   "id": "399bf488-4a0d-4bdf-a5ac-450342a8c394",
   "metadata": {},
   "outputs": [
    {
     "name": "stdout",
     "output_type": "stream",
     "text": [
      "frozenset({1, 2, 3})\n"
     ]
    },
    {
     "ename": "AttributeError",
     "evalue": "'frozenset' object has no attribute 'clear'",
     "output_type": "error",
     "traceback": [
      "\u001b[1;31m---------------------------------------------------------------------------\u001b[0m",
      "\u001b[1;31mAttributeError\u001b[0m                            Traceback (most recent call last)",
      "Cell \u001b[1;32mIn[49], line 4\u001b[0m\n\u001b[0;32m      2\u001b[0m fs \u001b[38;5;241m=\u001b[39m \u001b[38;5;28mfrozenset\u001b[39m([\u001b[38;5;241m3\u001b[39m, \u001b[38;5;241m2\u001b[39m, \u001b[38;5;241m1\u001b[39m])\n\u001b[0;32m      3\u001b[0m \u001b[38;5;28mprint\u001b[39m(fs)\n\u001b[1;32m----> 4\u001b[0m fs\u001b[38;5;241m.\u001b[39mclear([\u001b[38;5;241m4\u001b[39m])\n",
      "\u001b[1;31mAttributeError\u001b[0m: 'frozenset' object has no attribute 'clear'"
     ]
    }
   ],
   "source": [
    "#frozenset tidak punya metode clear\n",
    "fs = frozenset([3, 2, 1])\n",
    "print(fs)\n",
    "fs.clear([4])"
   ]
  },
  {
   "cell_type": "code",
   "execution_count": null,
   "id": "76b3294f-26fd-4f97-8dfc-22bc63f62314",
   "metadata": {},
   "outputs": [],
   "source": []
  }
 ],
 "metadata": {
  "kernelspec": {
   "display_name": "Python 3 (ipykernel)",
   "language": "python",
   "name": "python3"
  },
  "language_info": {
   "codemirror_mode": {
    "name": "ipython",
    "version": 3
   },
   "file_extension": ".py",
   "mimetype": "text/x-python",
   "name": "python",
   "nbconvert_exporter": "python",
   "pygments_lexer": "ipython3",
   "version": "3.12.4"
  }
 },
 "nbformat": 4,
 "nbformat_minor": 5
}
