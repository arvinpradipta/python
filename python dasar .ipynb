{
 "cells": [
  {
   "cell_type": "code",
   "execution_count": 13,
   "id": "9dd53318-5d4b-4374-b894-30199e5bb8ca",
   "metadata": {},
   "outputs": [
    {
     "ename": "NameError",
     "evalue": "name 's1' is not defined",
     "output_type": "error",
     "traceback": [
      "\u001b[1;31m---------------------------------------------------------------------------\u001b[0m",
      "\u001b[1;31mNameError\u001b[0m                                 Traceback (most recent call last)",
      "Cell \u001b[1;32mIn[13], line 5\u001b[0m\n\u001b[0;32m      3\u001b[0m s2 : \u001b[38;5;124m'\u001b[39m\u001b[38;5;124msaya sedang berkuliah di politeknik takumi\u001b[39m\u001b[38;5;124m'\u001b[39m\n\u001b[0;32m      4\u001b[0m \u001b[38;5;66;03m#menampilkan string\u001b[39;00m\n\u001b[1;32m----> 5\u001b[0m \u001b[38;5;28mprint\u001b[39m (s1)\n\u001b[0;32m      6\u001b[0m \u001b[38;5;28mprint\u001b[39m (s2)\n",
      "\u001b[1;31mNameError\u001b[0m: name 's1' is not defined"
     ]
    }
   ],
   "source": [
    "#membuat variable string\n",
    "s1 : 'nama saya = arvin pradipta mahadika'\n",
    "s2 : 'saya sedang berkuliah di politeknik takumi'\n",
    "#menampilkan string\n",
    "print (s1)\n",
    "print (s2) "
   ]
  },
  {
   "cell_type": "code",
   "execution_count": 15,
   "id": "bf163648-c4a5-4a19-a5e8-b63e22925a55",
   "metadata": {},
   "outputs": [
    {
     "name": "stdout",
     "output_type": "stream",
     "text": [
      "nama saya = arvin pradipta mahadika\n",
      "saya sedang berkuliah di politeknik takumi\n"
     ]
    }
   ],
   "source": [
    "#membuat variable string\n",
    "s1 = 'nama saya = arvin pradipta mahadika'\n",
    "s2 = 'saya sedang berkuliah di politeknik takumi'\n",
    "#menampilkan string\n",
    "print (s1)\n",
    "print (s2) "
   ]
  },
  {
   "cell_type": "code",
   "execution_count": 19,
   "id": "036366ba-991a-45eb-a4a4-f92ad81ea220",
   "metadata": {},
   "outputs": [
    {
     "name": "stdout",
     "output_type": "stream",
     "text": [
      "a\n"
     ]
    },
    {
     "ename": "IndexError",
     "evalue": "string index out of range",
     "output_type": "error",
     "traceback": [
      "\u001b[1;31m---------------------------------------------------------------------------\u001b[0m",
      "\u001b[1;31mIndexError\u001b[0m                                Traceback (most recent call last)",
      "Cell \u001b[1;32mIn[19], line 3\u001b[0m\n\u001b[0;32m      1\u001b[0m s \u001b[38;5;241m=\u001b[39m \u001b[38;5;124m'\u001b[39m\u001b[38;5;124marvin\u001b[39m\u001b[38;5;124m'\u001b[39m\n\u001b[0;32m      2\u001b[0m \u001b[38;5;28mprint\u001b[39m (s[\u001b[38;5;241m0\u001b[39m])\n\u001b[1;32m----> 3\u001b[0m \u001b[38;5;28mprint\u001b[39m (s[\u001b[38;5;241m-\u001b[39m\u001b[38;5;241m6\u001b[39m])\n\u001b[0;32m      4\u001b[0m \u001b[38;5;28mprint\u001b[39m (s[\u001b[38;5;241m1\u001b[39m])\n\u001b[0;32m      5\u001b[0m \u001b[38;5;28mprint\u001b[39m (s[\u001b[38;5;241m-\u001b[39m\u001b[38;5;241m5\u001b[39m])\n",
      "\u001b[1;31mIndexError\u001b[0m: string index out of range"
     ]
    }
   ],
   "source": [
    "s = 'arvin'\n",
    "print (s[0])\n",
    "print (s[-6])\n",
    "print (s[1])\n",
    "print (s[-5])\n",
    "print (s[2])"
   ]
  },
  {
   "cell_type": "code",
   "execution_count": 21,
   "id": "2491db20-d199-4cf1-b6f8-65750ddbae90",
   "metadata": {},
   "outputs": [
    {
     "name": "stdout",
     "output_type": "stream",
     "text": [
      "r\n",
      "k\n",
      "r\n",
      "k\n",
      "k\n",
      "r\n"
     ]
    }
   ],
   "source": [
    "s = 'arvin pradipta mahadika'\n",
    "print (s[1])\n",
    "print (s[-2])\n",
    "print (s[1])\n",
    "print (s[-2])\n",
    "print (s[-2])\n",
    "print (s[1])"
   ]
  },
  {
   "cell_type": "code",
   "execution_count": 23,
   "id": "26e625bc-db5f-4794-a193-cb6187e4f215",
   "metadata": {},
   "outputs": [
    {
     "name": "stdout",
     "output_type": "stream",
     "text": [
      "r\n",
      "n\n",
      "d\n",
      "p\n",
      " \n",
      "h\n",
      "d\n",
      "k\n"
     ]
    },
    {
     "ename": "IndexError",
     "evalue": "string index out of range",
     "output_type": "error",
     "traceback": [
      "\u001b[1;31m---------------------------------------------------------------------------\u001b[0m",
      "\u001b[1;31mIndexError\u001b[0m                                Traceback (most recent call last)",
      "Cell \u001b[1;32mIn[23], line 10\u001b[0m\n\u001b[0;32m      8\u001b[0m \u001b[38;5;28mprint\u001b[39m (s[\u001b[38;5;241m19\u001b[39m])\n\u001b[0;32m      9\u001b[0m \u001b[38;5;28mprint\u001b[39m (s[\u001b[38;5;241m21\u001b[39m])\n\u001b[1;32m---> 10\u001b[0m \u001b[38;5;28mprint\u001b[39m (s[\u001b[38;5;241m23\u001b[39m])\n",
      "\u001b[1;31mIndexError\u001b[0m: string index out of range"
     ]
    }
   ],
   "source": [
    "s = 'arvin pradipta mahadika'\n",
    "print (s[1])\n",
    "print (s[4])\n",
    "print (s[9])\n",
    "print (s[11])\n",
    "print (s[14])\n",
    "print (s[17])\n",
    "print (s[19])\n",
    "print (s[21])\n",
    "print (s[23])"
   ]
  },
  {
   "cell_type": "code",
   "execution_count": 25,
   "id": "f8d4a088-fcd8-42ca-b5c0-b014fc8b65a7",
   "metadata": {},
   "outputs": [
    {
     "name": "stdout",
     "output_type": "stream",
     "text": [
      "a\n",
      "i\n",
      "a\n",
      "i\n",
      "a\n",
      "a\n",
      "a\n",
      "i\n",
      "a\n"
     ]
    }
   ],
   "source": [
    "s = 'arvin pradipta mahadika'\n",
    "print (s[0])\n",
    "print (s[3])\n",
    "print (s[8])\n",
    "print (s[10])\n",
    "print (s[13])\n",
    "print (s[16])\n",
    "print (s[18])\n",
    "print (s[20])\n",
    "print (s[22])"
   ]
  },
  {
   "cell_type": "code",
   "execution_count": 27,
   "id": "b2721ab5-8ae8-4a4b-a8ca-cec245a5486b",
   "metadata": {},
   "outputs": [
    {
     "name": "stdout",
     "output_type": "stream",
     "text": [
      "politeknik\n"
     ]
    }
   ],
   "source": [
    "s = 'politeknik takumi'\n",
    "print (s[:10])"
   ]
  },
  {
   "cell_type": "code",
   "execution_count": 29,
   "id": "bf5cc429-55f3-42fe-858d-c779b7d5060e",
   "metadata": {},
   "outputs": [
    {
     "name": "stdout",
     "output_type": "stream",
     "text": [
      "politek\n"
     ]
    }
   ],
   "source": [
    "s = 'politeknik takumi'\n",
    "print (s[:-10])"
   ]
  },
  {
   "cell_type": "code",
   "execution_count": 33,
   "id": "6c875a03-48a5-46bb-ab11-ac9712e943a1",
   "metadata": {},
   "outputs": [
    {
     "name": "stdout",
     "output_type": "stream",
     "text": [
      "politeknik \n"
     ]
    }
   ],
   "source": [
    "s = 'politeknik takumi'\n",
    "print (s[:-6])"
   ]
  },
  {
   "cell_type": "code",
   "execution_count": 35,
   "id": "b7714bfe-ff9a-4992-9207-f2113707f7de",
   "metadata": {},
   "outputs": [
    {
     "name": "stdout",
     "output_type": "stream",
     "text": [
      "politeknik takum\n"
     ]
    }
   ],
   "source": [
    "s = 'politeknik takumi'\n",
    "print (s[:16])"
   ]
  },
  {
   "cell_type": "code",
   "execution_count": 37,
   "id": "43d4c351-ca66-47cb-b56d-4c431a6a84bf",
   "metadata": {},
   "outputs": [
    {
     "name": "stdout",
     "output_type": "stream",
     "text": [
      "politeknik \n"
     ]
    }
   ],
   "source": [
    "s = 'politeknik takumi'\n",
    "print (s[:11])"
   ]
  },
  {
   "cell_type": "code",
   "execution_count": 39,
   "id": "f29c667e-504e-4035-a2c5-3b3993b572b4",
   "metadata": {},
   "outputs": [
    {
     "name": "stdout",
     "output_type": "stream",
     "text": [
      "t\n"
     ]
    }
   ],
   "source": [
    "s = 'politeknik takumi'\n",
    "print (s[11])"
   ]
  },
  {
   "cell_type": "code",
   "execution_count": 41,
   "id": "2665b2f4-11fa-4d12-9dd0-f590d0e44f99",
   "metadata": {},
   "outputs": [
    {
     "name": "stdout",
     "output_type": "stream",
     "text": [
      "takumi\n"
     ]
    }
   ],
   "source": [
    "s = 'politeknik takumi'\n",
    "print (s[11:])"
   ]
  },
  {
   "cell_type": "code",
   "execution_count": 43,
   "id": "c0e5c7d9-59a3-4714-ab8d-b510bcd5d862",
   "metadata": {},
   "outputs": [
    {
     "ename": "SyntaxError",
     "evalue": "invalid syntax (386015816.py, line 1)",
     "output_type": "error",
     "traceback": [
      "\u001b[1;36m  Cell \u001b[1;32mIn[43], line 1\u001b[1;36m\u001b[0m\n\u001b[1;33m    Rhoshandiatellyneshiaunneveshenk Koyaanisquatsiuth Williams\u001b[0m\n\u001b[1;37m                                     ^\u001b[0m\n\u001b[1;31mSyntaxError\u001b[0m\u001b[1;31m:\u001b[0m invalid syntax\n"
     ]
    }
   ],
   "source": [
    "Rhoshandiatellyneshiaunneveshenk Koyaanisquatsiuth Williams"
   ]
  },
  {
   "cell_type": "code",
   "execution_count": 45,
   "id": "b097503f-570b-45df-89aa-4a2d89dddf38",
   "metadata": {},
   "outputs": [
    {
     "data": {
      "text/plain": [
       "59"
      ]
     },
     "execution_count": 45,
     "metadata": {},
     "output_type": "execute_result"
    }
   ],
   "source": [
    "#menghitung jumlah nama \n",
    "s = 'Rhoshandiatellyneshiaunneveshenk Koyaanisquatsiuth Williams'\n",
    "len(s)\n"
   ]
  },
  {
   "cell_type": "code",
   "execution_count": 47,
   "id": "0cf72eb4-b018-4aa5-a110-937c48d14c86",
   "metadata": {},
   "outputs": [
    {
     "ename": "SyntaxError",
     "evalue": "invalid syntax (2185422663.py, line 4)",
     "output_type": "error",
     "traceback": [
      "\u001b[1;36m  Cell \u001b[1;32mIn[47], line 4\u001b[1;36m\u001b[0m\n\u001b[1;33m    huruf.split(,)\u001b[0m\n\u001b[1;37m                ^\u001b[0m\n\u001b[1;31mSyntaxError\u001b[0m\u001b[1;31m:\u001b[0m invalid syntax\n"
     ]
    }
   ],
   "source": [
    "#split karakter\n",
    "huruf = 'a, b, c, d'\n",
    "print (huruf)\n",
    "huruf.split(,)"
   ]
  },
  {
   "cell_type": "code",
   "execution_count": 49,
   "id": "2697766b-dc5b-4273-b56d-17f868dc5981",
   "metadata": {},
   "outputs": [
    {
     "name": "stdout",
     "output_type": "stream",
     "text": [
      "a, b, c, d\n"
     ]
    },
    {
     "data": {
      "text/plain": [
       "['a', ' b', ' c', ' d']"
      ]
     },
     "execution_count": 49,
     "metadata": {},
     "output_type": "execute_result"
    }
   ],
   "source": [
    "#split karakter\n",
    "huruf = 'a, b, c, d'\n",
    "print (huruf)\n",
    "huruf.split(',')"
   ]
  },
  {
   "cell_type": "code",
   "execution_count": 51,
   "id": "fcbfffdd-06db-482f-9a2d-cc2a5640c9d3",
   "metadata": {},
   "outputs": [
    {
     "data": {
      "text/plain": [
       "<function str.upper()>"
      ]
     },
     "execution_count": 51,
     "metadata": {},
     "output_type": "execute_result"
    }
   ],
   "source": [
    "#merubah upper (huruf besar) dan lower case\n",
    "s = 'takumi'\n",
    "s.upper"
   ]
  },
  {
   "cell_type": "code",
   "execution_count": 53,
   "id": "7c53e44f-53c3-4af7-82ed-88353a6eb3f1",
   "metadata": {},
   "outputs": [
    {
     "data": {
      "text/plain": [
       "'TAKUMI'"
      ]
     },
     "execution_count": 53,
     "metadata": {},
     "output_type": "execute_result"
    }
   ],
   "source": [
    "#merubah upper (huruf besar) dan lower case\n",
    "s = 'takumi'\n",
    "s.upper()"
   ]
  },
  {
   "cell_type": "code",
   "execution_count": 55,
   "id": "a3d6b7ce-7f50-4464-be1d-876ba28ffc7b",
   "metadata": {},
   "outputs": [
    {
     "data": {
      "text/plain": [
       "'takumi'"
      ]
     },
     "execution_count": 55,
     "metadata": {},
     "output_type": "execute_result"
    }
   ],
   "source": [
    "#merubah upper (huruf besar) dan lower case\n",
    "s = 'takumi'\n",
    "s.lower()"
   ]
  },
  {
   "cell_type": "code",
   "execution_count": 57,
   "id": "0cc4b42b-12ab-4feb-a3fd-3711910d0291",
   "metadata": {},
   "outputs": [
    {
     "data": {
      "text/plain": [
       "'i'"
      ]
     },
     "execution_count": 57,
     "metadata": {},
     "output_type": "execute_result"
    }
   ],
   "source": [
    "#merubah upper (huruf besar) dan lower case\n",
    "s1 = 't'\n",
    "s2 = 'a'\n",
    "s3 = 'k'\n",
    "s4 = 'u'\n",
    "s5 = 'm'\n",
    "s6 = 'i'\n",
    "s1.upper()\n",
    "s2.lower()\n",
    "s3.lower()\n",
    "s4.lower()\n",
    "s5.lower()\n",
    "s6.lower()\n",
    "\n",
    "\n",
    "\n",
    "\n"
   ]
  },
  {
   "cell_type": "code",
   "execution_count": 61,
   "id": "870d022b-d56f-4118-84d3-fb0db99854e3",
   "metadata": {},
   "outputs": [
    {
     "name": "stdout",
     "output_type": "stream",
     "text": [
      "Ti\n"
     ]
    }
   ],
   "source": [
    "#merubah upper (huruf besar) dan lower case\n",
    "s = 'takumi'\n",
    "s1 = (s [0 & 5])\n",
    "s1.upper()\n",
    "s2 = (s[1:][-1:])\n",
    "print (s1.upper()+s2)\n"
   ]
  },
  {
   "cell_type": "code",
   "execution_count": 63,
   "id": "d501c101-97c5-402d-bce6-8911c671ff15",
   "metadata": {},
   "outputs": [
    {
     "name": "stdout",
     "output_type": "stream",
     "text": [
      "TIakumi\n"
     ]
    }
   ],
   "source": [
    "s = 'takumi'\n",
    "s1 = (s[0])\n",
    "s2 = (s[5]) \n",
    "s1.upper()\n",
    "s2.upper()\n",
    "s3 = (s[1:])\n",
    "print (s1.upper()+s2.upper()+s3)"
   ]
  },
  {
   "cell_type": "code",
   "execution_count": 69,
   "id": "87ead94d-cc72-4eb1-992c-4290d3f5fda9",
   "metadata": {},
   "outputs": [
    {
     "name": "stdout",
     "output_type": "stream",
     "text": [
      "TakumI\n"
     ]
    }
   ],
   "source": [
    "s = 'takumi' \n",
    "s1 = (s[0])\n",
    "s1.upper()\n",
    "s2 = (s[1:5]) #dilebihkan satu angka\n",
    "s3 = (s[-1])\n",
    "s3.upper()\n",
    "print (s1.upper()+s2+s3.upper())"
   ]
  },
  {
   "cell_type": "code",
   "execution_count": 124,
   "id": "60c0f5ff-449f-4a5f-9273-4f89d76132e9",
   "metadata": {},
   "outputs": [
    {
     "name": "stdout",
     "output_type": "stream",
     "text": [
      "Arvin Pradipta Mahadika\n"
     ]
    }
   ],
   "source": [
    "s = 'arvin pradipta mahadika'\n",
    "s1 = (s[0])\n",
    "s1.upper()\n",
    "s2 = (s[1:6])\n",
    "s3 = (s[6])\n",
    "s3.upper()\n",
    "s4 = (s[7:15])\n",
    "s5 = (s[-8])\n",
    "s5.upper()\n",
    "s6 = (s[-7:])\n",
    "print (s1.upper()+s2+s3.upper()+s4+s5.upper()+s6)"
   ]
  },
  {
   "cell_type": "code",
   "execution_count": 126,
   "id": "e00b5bd7-db94-4d8d-a4ab-53d77a0302f6",
   "metadata": {},
   "outputs": [
    {
     "name": "stdout",
     "output_type": "stream",
     "text": [
      "1000000\n"
     ]
    }
   ],
   "source": [
    "#string tipe numerik\n",
    "print (1000000)"
   ]
  },
  {
   "cell_type": "code",
   "execution_count": 128,
   "id": "b4fade72-dfdb-41ab-b2e6-f9595170010c",
   "metadata": {},
   "outputs": [
    {
     "data": {
      "text/plain": [
       "(2, 1005)"
      ]
     },
     "execution_count": 128,
     "metadata": {},
     "output_type": "execute_result"
    }
   ],
   "source": [
    "(2,5 + 1000)"
   ]
  },
  {
   "cell_type": "code",
   "execution_count": 130,
   "id": "8e984c8a-4ba4-4bd3-8ece-f137c48fe3d5",
   "metadata": {},
   "outputs": [
    {
     "data": {
      "text/plain": [
       "1002.5"
      ]
     },
     "execution_count": 130,
     "metadata": {},
     "output_type": "execute_result"
    }
   ],
   "source": [
    "(2.5 + 1000) #numerik tipe float dan integer"
   ]
  },
  {
   "cell_type": "code",
   "execution_count": 136,
   "id": "29c1f180-1697-466d-bf08-b941ecb25917",
   "metadata": {},
   "outputs": [
    {
     "data": {
      "text/plain": [
       "1125899906842624"
      ]
     },
     "execution_count": 136,
     "metadata": {},
     "output_type": "execute_result"
    }
   ],
   "source": [
    "2**50"
   ]
  },
  {
   "cell_type": "code",
   "execution_count": 138,
   "id": "45c01f17-8b43-44d5-b9d7-1cf6fcefe672",
   "metadata": {},
   "outputs": [
    {
     "data": {
      "text/plain": [
       "16"
      ]
     },
     "execution_count": 138,
     "metadata": {},
     "output_type": "execute_result"
    }
   ],
   "source": [
    "len (str (2**50))"
   ]
  },
  {
   "cell_type": "code",
   "execution_count": 142,
   "id": "f20ef825-277f-4df7-b055-af66bbb1d44f",
   "metadata": {},
   "outputs": [
    {
     "data": {
      "text/plain": [
       "3.141592653589793"
      ]
     },
     "execution_count": 142,
     "metadata": {},
     "output_type": "execute_result"
    }
   ],
   "source": [
    "import math #panggil modul math\n",
    "math.pi #munculkan nilai pi"
   ]
  },
  {
   "cell_type": "code",
   "execution_count": 146,
   "id": "eb7dde75-cfe0-406e-8eed-9ad09716654c",
   "metadata": {},
   "outputs": [
    {
     "data": {
      "text/plain": [
       "2.0"
      ]
     },
     "execution_count": 146,
     "metadata": {},
     "output_type": "execute_result"
    }
   ],
   "source": [
    "import math \n",
    "math.sqrt (4) #akar bilangan"
   ]
  },
  {
   "cell_type": "code",
   "execution_count": 150,
   "id": "4ac7e8b7-5021-444a-bf80-171f64f330c3",
   "metadata": {},
   "outputs": [
    {
     "name": "stdout",
     "output_type": "stream",
     "text": [
      "78.53981633974483\n",
      "5.477225575051661\n"
     ]
    }
   ],
   "source": [
    "#panggil modul math\n",
    "import math\n",
    "\n",
    "#buat variabel\n",
    "x = 25\n",
    "y = 30\n",
    "\n",
    "#buat operasi matematika\n",
    "a = math.pi*x \n",
    "b = math.sqrt (y)\n",
    "\n",
    "#menampilkan hasil\n",
    "print (a)\n",
    "print (b)\n"
   ]
  },
  {
   "cell_type": "code",
   "execution_count": 165,
   "id": "565f0c9c-6351-4fe6-b3a4-7ef9e43f301a",
   "metadata": {},
   "outputs": [
    {
     "data": {
      "text/plain": [
       "3"
      ]
     },
     "execution_count": 165,
     "metadata": {},
     "output_type": "execute_result"
    }
   ],
   "source": [
    "import random\n",
    "random.choice ([1, 2, 3, 6])"
   ]
  },
  {
   "cell_type": "code",
   "execution_count": 167,
   "id": "a4ea266d-c506-4ca3-9ad1-018567db94ce",
   "metadata": {},
   "outputs": [
    {
     "data": {
      "text/plain": [
       "0.28366218546322625"
      ]
     },
     "execution_count": 167,
     "metadata": {},
     "output_type": "execute_result"
    }
   ],
   "source": [
    "import math\n",
    "math.cos(5)"
   ]
  },
  {
   "cell_type": "code",
   "execution_count": 180,
   "id": "6fb0bafa-6508-47eb-a23e-37d2ffba2487",
   "metadata": {},
   "outputs": [
    {
     "name": "stdout",
     "output_type": "stream",
     "text": [
      "false\n",
      "true\n"
     ]
    }
   ],
   "source": [
    "#type boolean\n",
    "t = 'true'\n",
    "f = 'false'\n",
    "print(t and f)\n",
    "print(t or f)\n",
    "#bisa dengan membesarkan variable dan memberi tanda petik"
   ]
  },
  {
   "cell_type": "code",
   "execution_count": null,
   "id": "6e09c9ae-bd6b-4e6e-8abc-07a44dc35220",
   "metadata": {},
   "outputs": [],
   "source": []
  }
 ],
 "metadata": {
  "kernelspec": {
   "display_name": "Python 3 (ipykernel)",
   "language": "python",
   "name": "python3"
  },
  "language_info": {
   "codemirror_mode": {
    "name": "ipython",
    "version": 3
   },
   "file_extension": ".py",
   "mimetype": "text/x-python",
   "name": "python",
   "nbconvert_exporter": "python",
   "pygments_lexer": "ipython3",
   "version": "3.12.4"
  }
 },
 "nbformat": 4,
 "nbformat_minor": 5
}
