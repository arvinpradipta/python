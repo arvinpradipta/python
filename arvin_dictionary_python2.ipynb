{
 "cells": [
  {
   "cell_type": "code",
   "execution_count": 9,
   "id": "1c7c22b6-d099-44ec-bc78-fb836899fe3b",
   "metadata": {},
   "outputs": [
    {
     "name": "stdout",
     "output_type": "stream",
     "text": [
      "Eko\n",
      "Mekatronika\n"
     ]
    }
   ],
   "source": [
    "#dalam python, dictionary juga disebut \"mapping\" identik dengan array asos \n",
    "#indeks type string\n",
    "#tipe data: 1) key 2) value\n",
    "#bentuk umum: variable = (key1:value1 , key2 : value2)\n",
    "\n",
    "#contoh\n",
    "dic = {'Dosen':'Eko' , 'Prodi' : 'Mekatronika' } #buat variable\n",
    "\n",
    "#menampilkan dic\n",
    "#print(dic['dosen'])\n",
    "print (dic['Dosen'])\n",
    "print (dic['Prodi'])"
   ]
  },
  {
   "cell_type": "code",
   "execution_count": 19,
   "id": "a1f0c926-e280-49bd-a2fd-db730dc58dbf",
   "metadata": {
    "scrolled": true
   },
   "outputs": [
    {
     "name": "stdout",
     "output_type": "stream",
     "text": [
      "arvin pradipta mahadika\n",
      "prodi mekatronika\n"
     ]
    }
   ],
   "source": [
    "dic = {'mahasiswa' : 'arvin pradipta mahadika' , 'prodi' : 'prodi mekatronika'}\n",
    "print (dic['mahasiswa']) \n",
    "print (dic['prodi'])"
   ]
  },
  {
   "cell_type": "code",
   "execution_count": 21,
   "id": "8116aab1-8add-416c-a380-013f99f220e7",
   "metadata": {},
   "outputs": [
    {
     "name": "stdout",
     "output_type": "stream",
     "text": [
      "dic['mahasiswa']: arvin pradipta mahadika\n",
      "dic['prodi']: prodi mekatronika\n"
     ]
    }
   ],
   "source": [
    "dic = {'mahasiswa' : 'arvin pradipta mahadika' , 'prodi' : 'prodi mekatronika'}\n",
    "print (\"dic['mahasiswa']:\" , dic ['mahasiswa'])\n",
    "print (\"dic['prodi']:\" , dic ['prodi'])"
   ]
  },
  {
   "cell_type": "code",
   "execution_count": 28,
   "id": "c7757925-3a5c-41e8-9d8d-9b6d0f2580aa",
   "metadata": {},
   "outputs": [
    {
     "name": "stdout",
     "output_type": "stream",
     "text": [
      "dic['nama']: arvin pradipta mahadika\n",
      "dic['tanggal lahir']: 11 januari 2005\n",
      "dic['tempat lahir']: hermina bogor\n",
      "dic['alamat']: perumahan telaga kahuripan\n",
      "dic['hobi']: mencoba hal baru yang baik\n"
     ]
    }
   ],
   "source": [
    "#eksperimen : membuat dictionary biodata yang terdiri dari nama, ttl, alamat, hobby\n",
    "dic = {'nama' : 'arvin pradipta mahadika' , 'tanggal lahir' : '11 januari 2005' , 'tempat lahir' : 'hermina bogor' ,'alamat' : 'perumahan telaga kahuripan' , 'hobi' : 'mencoba hal baru yang baik'}\n",
    "print(\"dic['nama']:\" , dic ['nama']) \n",
    "print(\"dic['tanggal lahir']:\" , dic ['tanggal lahir']) \n",
    "print(\"dic['tempat lahir']:\" , dic ['tempat lahir'])\n",
    "print(\"dic['alamat']:\" , dic ['alamat'])\n",
    "print(\"dic['hobi']:\" , dic ['hobi']) \n"
   ]
  },
  {
   "cell_type": "code",
   "execution_count": 32,
   "id": "9f5e4419-36be-405f-aad2-2515714e24b7",
   "metadata": {},
   "outputs": [
    {
     "name": "stdout",
     "output_type": "stream",
     "text": [
      "nama: arvin pradipta mahadika\n",
      "tanggal lahir: 11 januari 2005\n",
      "tempat lahir: hermina bogor\n",
      "alamat: perumahan telaga kahuripan\n",
      "hobi: mencoba hal baru yang baik\n"
     ]
    }
   ],
   "source": [
    "dic = {'nama' : 'arvin pradipta mahadika' , 'tanggal lahir' : '11 januari 2005' , 'tempat lahir' : 'hermina bogor' ,'alamat' : 'perumahan telaga kahuripan' , 'hobi' : 'mencoba hal baru yang baik'}\n",
    "print(\"nama:\" , dic ['nama']) \n",
    "print(\"tanggal lahir:\" , dic ['tanggal lahir']) \n",
    "print(\"tempat lahir:\" , dic ['tempat lahir'])\n",
    "print(\"alamat:\" , dic ['alamat'])\n",
    "print(\"hobi:\" , dic ['hobi'])"
   ]
  },
  {
   "cell_type": "code",
   "execution_count": 72,
   "id": "e6c031c6-ca90-4c3c-9175-2fde2b660280",
   "metadata": {},
   "outputs": [
    {
     "name": "stdout",
     "output_type": "stream",
     "text": [
      "satu: 5\n",
      "dua: 10\n",
      "jumlah: 11.11111111111111\n"
     ]
    }
   ],
   "source": [
    "dic = {'satu' :5, 'dua' :10 , 'tiga' :45 , 'empat' :10}\n",
    "print(\"satu:\" , dic['satu'])\n",
    "print(\"dua:\" , dic['dua'])\n",
    "print (\"jumlah:\" , dic['satu']*dic['dua']/dic['tiga']+dic['empat'])"
   ]
  },
  {
   "cell_type": "code",
   "execution_count": 33,
   "id": "348b2c06-7ad4-47c8-80aa-d9a1d1b48a76",
   "metadata": {},
   "outputs": [
    {
     "name": "stdout",
     "output_type": "stream",
     "text": [
      "Nama: Arvin\n",
      "Mata Kuliah: phyton\n",
      "Nilai UTS: 96\n",
      "Nilai UAS: 94\n",
      "Nilai UTS + Nilai UAS: 150.0\n"
     ]
    }
   ],
   "source": [
    "#Experiment 2 Dictionary : Nama, Mata Kuliah, Nilai UTS, Nilai UAS, Nilai UTS + Nilai UAS\n",
    "dic = {'Nama':'Arvin', 'Mata Kuliah':'phyton', 'Nilai UTS':96, 'Nilai UAS':94, 'Nilai UTS + Nilai UAS':'200'}\n",
    "\n",
    "print(\"Nama:\", dic['Nama'])\n",
    "print(\"Mata Kuliah:\", dic['Mata Kuliah'])\n",
    "print(\"Nilai UTS:\", dic['Nilai UTS'])\n",
    "print(\"Nilai UAS:\", dic['Nilai UAS'])\n",
    "\n",
    "dic = {'Nilai UTS':100, 'Nilai UAS':100}\n",
    "print(\"Nilai UTS + Nilai UAS:\", (dic['Nilai UAS']+dic['Nilai UTS']/2))"
   ]
  },
  {
   "cell_type": "code",
   "execution_count": 37,
   "id": "6301f7b7-7f61-4cad-9f23-2404e112dab7",
   "metadata": {},
   "outputs": [
    {
     "name": "stdout",
     "output_type": "stream",
     "text": [
      "{'nama': 'arvin pradipta mahadika', 'mata kuliah': 'python', 'nilai uts': 45, 'nilai uas': 46, 'hasil': 'tidak lulus'}\n"
     ]
    }
   ],
   "source": [
    "dic ={'nama': 'arvin pradipta mahadika', 'mata kuliah': 'python', 'nilai uts': 96, 'nilai uas': 94, 'hasil': 'lulus'}\n",
    "dic['nilai uts']= 45\n",
    "dic['nilai uas']= 46\n",
    "dic['hasil']= 'tidak lulus'\n",
    "print(dic)"
   ]
  },
  {
   "cell_type": "code",
   "execution_count": 39,
   "id": "41dcb4d9-c4f0-4af0-bb5d-4bb58c6c6964",
   "metadata": {},
   "outputs": [
    {
     "name": "stdout",
     "output_type": "stream",
     "text": [
      "{'nama': 'arvin pradipta mahadika', 'mata kuliah': 'python', 'nilai uts': 96, 'nilai uas': 94, 'hasil': 'lulus'}\n"
     ]
    }
   ],
   "source": [
    "dic ={'nama': 'arvin pradipta mahadika', 'mata kuliah': 'python', 'nilai uts': 96, 'nilai uas': 94, 'hasil': 'lulus'}\n",
    "dic['hasil'] = 'lulus'\n",
    "print(dic)"
   ]
  },
  {
   "cell_type": "code",
   "execution_count": 43,
   "id": "cbe9249a-efa6-4bb7-a613-bdcf443d7fcf",
   "metadata": {},
   "outputs": [
    {
     "name": "stdout",
     "output_type": "stream",
     "text": [
      "{'nama': 'arvin pradipta mahadika', 'mata kuliah': 'python', 'nilai uts': 96, 'hasil': 'lulus'}\n"
     ]
    }
   ],
   "source": [
    "dic ={'nama': 'arvin pradipta mahadika', 'mata kuliah': 'python', 'nilai uts': 96, 'nilai uas': 94, 'hasil': 'lulus'}\n",
    "del dic ['nilai uas']\n",
    "print (dic)"
   ]
  },
  {
   "cell_type": "code",
   "execution_count": null,
   "id": "760a6a64-4e62-4e38-9176-d60122c483a5",
   "metadata": {},
   "outputs": [],
   "source": []
  }
 ],
 "metadata": {
  "kernelspec": {
   "display_name": "Python 3 (ipykernel)",
   "language": "python",
   "name": "python3"
  },
  "language_info": {
   "codemirror_mode": {
    "name": "ipython",
    "version": 3
   },
   "file_extension": ".py",
   "mimetype": "text/x-python",
   "name": "python",
   "nbconvert_exporter": "python",
   "pygments_lexer": "ipython3",
   "version": "3.12.4"
  }
 },
 "nbformat": 4,
 "nbformat_minor": 5
}
