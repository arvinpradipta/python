{
 "cells": [
  {
   "cell_type": "code",
   "execution_count": 15,
   "id": "d98d07f4-9794-4724-a408-04ea1b9abe03",
   "metadata": {},
   "outputs": [
    {
     "name": "stdout",
     "output_type": "stream",
     "text": [
      "index list\n",
      "10\n",
      "30\n",
      "50\n",
      "50\n",
      "40\n",
      "10\n",
      "banyaknya elemen\n",
      "5\n"
     ]
    }
   ],
   "source": [
    "#dalam python mirip dengan array normal\n",
    "#dalam list, elemen tidak diindeks berdasarkan kunci (key) tertentu\n",
    "#indeks bilangan selalu diawali dari nilai nol (0)\n",
    "#indeks negatif ditentukan dari arah kanan, dan mulai dari -1\n",
    "#bentuk umum: nama_list =[nilai1, nilai2, nilai3,...]\n",
    "\n",
    "\n",
    "#contoh\n",
    "list = [10, 20, 30, 40, 50] #jika list index ditambah maka akan menyesuaikan\n",
    "\n",
    "#indeks elemen didalam list berdasarkan posisi\n",
    "print('index list')\n",
    "print(list[0]) #bernilai 10\n",
    "print(list[2]) #bernilai 30\n",
    "print(list[4]) #bernilai 50\n",
    "print(list[-1]) #bernilai 50\n",
    "print(list[-2]) #bernilai 40\n",
    "print(list[-5]) #bernilai 10\n",
    "print('banyaknya elemen')\n",
    "print(len(list))"
   ]
  },
  {
   "cell_type": "code",
   "execution_count": 21,
   "id": "c3a48856-76e0-41cd-9e87-daf157186a04",
   "metadata": {},
   "outputs": [
    {
     "name": "stdout",
     "output_type": "stream",
     "text": [
      "sebelum dipotong\n",
      "[10, 20, 30, 40, 50]\n",
      "setelah dipotong\n",
      "[10, 20, 30, 40]\n",
      "[10]\n",
      "[50]\n"
     ]
    }
   ],
   "source": [
    "#slicing (memotong) elemen didalam list\n",
    "print('sebelum dipotong')\n",
    "print(list)\n",
    "print('setelah dipotong')\n",
    "print(list[:-1]) #apabila ':' berada disebelah kiri maka yang akan terlihat dari -1 ke kiri (SLICING/MEMOTONG ELEMEN PERTAMA DARI KANAN)\n",
    "print(list[:1]) #apabila ':' berada di kiri maka dihitung dari dari 10 / 1 (MEMOTONG ELEMEN PERTAMA DARI KIRI)\n",
    "print(list[-1:]) #apabila ':' berada di kanan makan perhitungan nya dari 50 dst (MEMOTONG ELEMEN DARI KANAN KECUALI ELEMEN -1)"
   ]
  },
  {
   "cell_type": "code",
   "execution_count": 25,
   "id": "c7da3772-6bab-4d3c-8e50-bb3d4a408d0f",
   "metadata": {},
   "outputs": [
    {
     "name": "stdout",
     "output_type": "stream",
     "text": [
      "sebelum digabung:\n",
      "[10, 20, 30, 40, 50]\n",
      "setelah digabung:\n",
      "[10, 20, 30, 40, 50, 60, 70, 80]\n"
     ]
    }
   ],
   "source": [
    "#contoh\n",
    "list = [10, 20, 30, 40, 50]\n",
    "\n",
    "#menggabungkan elemen list dan membuat daftar list baru\n",
    "print('sebelum digabung:')\n",
    "print(list)\n",
    "print('setelah digabung:')\n",
    "print(list + [60, 70, 80])"
   ]
  },
  {
   "cell_type": "code",
   "execution_count": 41,
   "id": "220b7a86-2d85-476c-95b6-4d6173529e01",
   "metadata": {},
   "outputs": [
    {
     "name": "stdout",
     "output_type": "stream",
     "text": [
      "index negara:\n",
      "cina\n",
      "jepang\n",
      "indonesia\n",
      "korea\n",
      "amerika\n",
      "banyak elemen:\n",
      "5\n"
     ]
    }
   ],
   "source": [
    "#latihan\n",
    "\n",
    "#type string (min 5 elemen)\n",
    "list = ['cina', 'jepang', 'amerika', 'korea', 'indonesia']\n",
    "print('index negara:')\n",
    "print(list[0]) #cina\n",
    "print(list[1]) #jepang\n",
    "print(list[-1]) #indonesia\n",
    "print(list[-2]) #korea\n",
    "print(list[-3]) #amerika\n",
    "print('banyak elemen:')\n",
    "print(len(list))"
   ]
  },
  {
   "cell_type": "code",
   "execution_count": 31,
   "id": "5965ebab-ffc4-4fce-87ba-52e25bcd2e2b",
   "metadata": {},
   "outputs": [
    {
     "name": "stdout",
     "output_type": "stream",
     "text": [
      "sebelum dipotong:\n",
      "['cina', 'jepang', 'amerika', 'korea', 'indonesia']\n",
      "setelah dipotong:\n",
      "['cina', 'jepang', 'amerika', 'korea']\n",
      "['cina']\n",
      "['indonesia']\n"
     ]
    }
   ],
   "source": [
    "#slicing atau memotong elemen dalam list\n",
    "print('sebelum dipotong:')\n",
    "print(list)\n",
    "print('setelah dipotong')\n",
    "print(list[:-1])\n",
    "print(list[:1])\n",
    "print(list[-1:])"
   ]
  },
  {
   "cell_type": "code",
   "execution_count": 37,
   "id": "9d719e20-672d-48e1-b543-480534c2e026",
   "metadata": {},
   "outputs": [
    {
     "name": "stdout",
     "output_type": "stream",
     "text": [
      "sebelum digabung:\n",
      "['cina', 'jepang', 'amerika', 'korea', 'indonesia']\n",
      "setelah digabung:\n",
      "['cina', 'jepang', 'amerika', 'korea', 'indonesia', 'brazil', 'amerisya usyara', 'rusia']\n"
     ]
    }
   ],
   "source": [
    "#menggabungkan elemen list dan membuat daftar list baru\n",
    "print('sebelum digabung:')\n",
    "print(list)\n",
    "print('setelah digabung:')\n",
    "print(list + ['brazil', 'amerisya usyara', 'rusia'])"
   ]
  },
  {
   "cell_type": "code",
   "execution_count": 43,
   "id": "c2dc011e-b7f6-49e0-9a71-f234e28e9ce1",
   "metadata": {},
   "outputs": [
    {
     "name": "stdout",
     "output_type": "stream",
     "text": [
      "index list:\n",
      "71\n",
      "67\n",
      "61\n",
      "59\n",
      "53\n",
      "banyak eleman:\n",
      "5\n"
     ]
    }
   ],
   "source": [
    "#bilangan prima\n",
    "list = [53, 59, 61, 67, 71]\n",
    "print('index list:')\n",
    "print(list[-1])\n",
    "print(list[-2])\n",
    "print(list[2])\n",
    "print(list[1])\n",
    "print(list[0])\n",
    "print('banyak eleman:')\n",
    "print(len(list))"
   ]
  },
  {
   "cell_type": "code",
   "execution_count": 45,
   "id": "d4f78b8f-dd8d-4b17-922a-9664a60bf0e0",
   "metadata": {},
   "outputs": [
    {
     "name": "stdout",
     "output_type": "stream",
     "text": [
      "sebelum dipotong:\n",
      "[53, 59, 61, 67, 71]\n",
      "setelah dipotong\n",
      "[53, 59, 61, 67]\n",
      "[53]\n",
      "[71]\n"
     ]
    }
   ],
   "source": [
    "#slicing atau memotong elemen dalam list\n",
    "print('sebelum dipotong:')\n",
    "print(list)\n",
    "print('setelah dipotong')\n",
    "print(list[:-1])\n",
    "print(list[:1])\n",
    "print(list[-1:])"
   ]
  },
  {
   "cell_type": "code",
   "execution_count": 47,
   "id": "8fb532e4-8196-4a4a-946d-312198d82d9b",
   "metadata": {},
   "outputs": [
    {
     "name": "stdout",
     "output_type": "stream",
     "text": [
      "sebelum digabung:\n",
      "[53, 59, 61, 67, 71]\n",
      "setelah digabung:\n",
      "[53, 59, 61, 67, 71, 73, 79, 83]\n"
     ]
    }
   ],
   "source": [
    "#menggabungkan elemen list dan membuat daftar list baru\n",
    "print('sebelum digabung:')\n",
    "print(list)\n",
    "print('setelah digabung:')\n",
    "print(list + [73, 79, 83])"
   ]
  },
  {
   "cell_type": "code",
   "execution_count": null,
   "id": "b26fd23b-89c6-4325-8c9b-0190745f0c6b",
   "metadata": {},
   "outputs": [],
   "source": []
  }
 ],
 "metadata": {
  "kernelspec": {
   "display_name": "Python 3 (ipykernel)",
   "language": "python",
   "name": "python3"
  },
  "language_info": {
   "codemirror_mode": {
    "name": "ipython",
    "version": 3
   },
   "file_extension": ".py",
   "mimetype": "text/x-python",
   "name": "python",
   "nbconvert_exporter": "python",
   "pygments_lexer": "ipython3",
   "version": "3.12.4"
  }
 },
 "nbformat": 4,
 "nbformat_minor": 5
}
