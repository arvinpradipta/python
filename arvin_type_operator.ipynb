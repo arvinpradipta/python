{
 "cells": [
  {
   "cell_type": "markdown",
   "id": "d9547c80-6e4e-4c91-80f0-2082f0083e33",
   "metadata": {},
   "source": [
    "# operator"
   ]
  },
  {
   "cell_type": "code",
   "execution_count": 1,
   "id": "e2747832-d00d-4402-ab08-7dfe6f4bb84e",
   "metadata": {},
   "outputs": [],
   "source": [
    "#dalam pembuatan program, banyak menggunakan operasi yang melibatkan nilai numerik, string dll\n",
    "#operator diklarifikasikan ke dalam 5 klp:\n",
    "#operator penugasan (1)\n",
    "#operator aritmatika (2)\n",
    "#operator relasional (3)\n",
    "#operator logika (4)\n",
    "#operator string (5)\n",
    "#operator bitwise (6)"
   ]
  },
  {
   "cell_type": "markdown",
   "id": "e8d1eeaf-1793-46ab-9ee3-1c9070acf53f",
   "metadata": {},
   "source": [
    "# operator penugasan"
   ]
  },
  {
   "cell_type": "code",
   "execution_count": 4,
   "id": "6415346f-764d-4135-974e-ac4e563cc9d9",
   "metadata": {},
   "outputs": [
    {
     "name": "stdout",
     "output_type": "stream",
     "text": [
      "5\n"
     ]
    }
   ],
   "source": [
    "#menggunakan tanda operasi / operator sma dengan (=)\n",
    "#contoh\n",
    "a = 5\n",
    "print(a)"
   ]
  },
  {
   "cell_type": "code",
   "execution_count": 6,
   "id": "fff22429-83a7-4d29-8055-2bdeacb22548",
   "metadata": {},
   "outputs": [
    {
     "name": "stdout",
     "output_type": "stream",
     "text": [
      "13\n"
     ]
    }
   ],
   "source": [
    "#contoh\n",
    "a = 5\n",
    "a = a + 8\n",
    "print(a)"
   ]
  },
  {
   "cell_type": "code",
   "execution_count": 12,
   "id": "63b28789-da59-49d4-bce5-2e6cfd215820",
   "metadata": {},
   "outputs": [
    {
     "name": "stdout",
     "output_type": "stream",
     "text": [
      "13\n"
     ]
    }
   ],
   "source": [
    "#merubah kode operasi penjumlahan a+= 8\n",
    "a = 5\n",
    "a += 8\n",
    "print(a)"
   ]
  },
  {
   "cell_type": "code",
   "execution_count": 14,
   "id": "dbac19f5-d1ef-4ff3-9650-0fabf8cb691a",
   "metadata": {},
   "outputs": [
    {
     "name": "stdout",
     "output_type": "stream",
     "text": [
      "66\n"
     ]
    }
   ],
   "source": [
    "#operasi perkalian\n",
    "b = 22\n",
    "b *= 3\n",
    "print(b)"
   ]
  },
  {
   "cell_type": "code",
   "execution_count": 20,
   "id": "7ac426ca-8b8d-4fc4-a409-466d3d9b0c83",
   "metadata": {},
   "outputs": [
    {
     "name": "stdout",
     "output_type": "stream",
     "text": [
      "7.333333333333333\n"
     ]
    }
   ],
   "source": [
    "#operasi pembagian bilangan rill /\n",
    "c = 22\n",
    "c /= 3\n",
    "print(c)"
   ]
  },
  {
   "cell_type": "code",
   "execution_count": 22,
   "id": "a228f8a5-eaa1-4795-948a-851bf4a2bd1b",
   "metadata": {},
   "outputs": [
    {
     "name": "stdout",
     "output_type": "stream",
     "text": [
      "7\n"
     ]
    }
   ],
   "source": [
    "#operasi pembagian bilangan bulat //\n",
    "c = 22\n",
    "c //= 3\n",
    "print(c)"
   ]
  },
  {
   "cell_type": "code",
   "execution_count": 24,
   "id": "9eb6750c-39b4-4dd3-ad43-5bb4c7636a46",
   "metadata": {},
   "outputs": [
    {
     "name": "stdout",
     "output_type": "stream",
     "text": [
      "7\n",
      "7.333333333333333\n"
     ]
    }
   ],
   "source": [
    "c = 22\n",
    "c //= 3\n",
    "print(c)\n",
    "print(22/3)"
   ]
  },
  {
   "cell_type": "code",
   "execution_count": 28,
   "id": "23ea538d-0c1e-471c-9dd4-40aaf7458e96",
   "metadata": {},
   "outputs": [
    {
     "name": "stdout",
     "output_type": "stream",
     "text": [
      "1\n"
     ]
    }
   ],
   "source": [
    "#operasi pencarian sisa dari pembagian (/=)\n",
    "c = 22\n",
    "c %= 3\n",
    "print(c)"
   ]
  },
  {
   "cell_type": "markdown",
   "id": "f8284fc3-cddb-4b57-9e5c-c5dab25d1bc5",
   "metadata": {},
   "source": [
    "# operator aritmetika"
   ]
  },
  {
   "cell_type": "code",
   "execution_count": 56,
   "id": "69d00afd-cb28-40cc-be73-b03a9be6aecf",
   "metadata": {},
   "outputs": [
    {
     "name": "stdout",
     "output_type": "stream",
     "text": [
      "x = 11\n",
      "y = 9\n",
      "x + y 20\n",
      "x - y 2\n",
      "x * y 99\n",
      "x // y 1\n",
      "x / y 1.2222222222222223\n",
      "x % y 2\n",
      "x ** y 2357947691\n"
     ]
    }
   ],
   "source": [
    "#operator ini digunakan untuk melakukan perhitungan terhadap data numerik\n",
    "#bentuk operatornya :\n",
    "# + (untuk penjumlahan)\n",
    "# - (untuk pengurangan)\n",
    "# * (untuk perkalian)\n",
    "# / (untuk pembagian rill)\n",
    "# // (untuk pembagian bulat)\n",
    "# % (untuk sisa dari pembagian)\n",
    "# ** (untuk perpangkatan)\n",
    "\n",
    "\n",
    "#contoh program\n",
    "def main():\n",
    "    #mendefinisikan variable x dan y\n",
    "    x = 11\n",
    "    y = 9\n",
    "    print('x =', x) #menampilkan nilai x\n",
    "    print('y =', y) #menampilkan nilai y\n",
    "    print('x + y', (x + y))\n",
    "    print('x - y', (x - y))\n",
    "    print('x * y', (x * y))\n",
    "    print('x // y', (x // y))\n",
    "    print('x / y', (x / y))\n",
    "    print('x % y', (x % y))\n",
    "    print('x ** y', (x ** y))   \n",
    "    \n",
    "if __name__ == '__main__':\n",
    "    main()"
   ]
  },
  {
   "cell_type": "markdown",
   "id": "6d60b489-b8e4-4469-b794-6cf11101c35e",
   "metadata": {},
   "source": [
    "# operator relasional"
   ]
  },
  {
   "cell_type": "code",
   "execution_count": 65,
   "id": "5cf9da34-9291-4ac9-a59b-8aca5adae6e4",
   "metadata": {},
   "outputs": [
    {
     "name": "stdout",
     "output_type": "stream",
     "text": [
      "x = 32\n",
      "y = 4\n",
      "[2, 4, 8, 16, 32]\n",
      "x == y False\n",
      "x != y True\n",
      "x < y False\n",
      "x > y True\n",
      "x <= y False\n",
      "x >= y True\n",
      "x in li True\n",
      "y in li True\n"
     ]
    }
   ],
   "source": [
    "#operator yang digunakan untk membandingkan 2 buah nilai.\n",
    "#biasanya hasil perbandingan yang diperoleh adalah nilai logika atau type nya boolean, yaitu true atau false\n",
    "#bentuk operator relasional :\n",
    "# == (sama dengan)\n",
    "# != (tidak sama dengan)\n",
    "# > (lebih besar)\n",
    "# < (lebih kecil)\n",
    "# >= (lebih besar atau sama dengan)\n",
    "# <= (lebih kecil atau sama dengan)\n",
    "# in (memeriksa nilai dalam kumpulan [dict, list, tuple, set])\n",
    "\n",
    "#contoh program\n",
    "def main():\n",
    "    #mendefinisikan variable x dan y\n",
    "    #dan li (bertipe list)\n",
    "    x = 32\n",
    "    y = 4\n",
    "    li = [2, 4, 8, 16, 32]\n",
    "    print('x =', x) #menampilkan nilai x\n",
    "    print('y =', y) #menampilkan nilai y\n",
    "    print(li)  \n",
    "    print('x == y', (x == y)) #melakukan pemeriksaan x dan y\n",
    "    print('x != y', (x != y))\n",
    "    print('x < y', (x < y))\n",
    "    print('x > y', (x > y))\n",
    "    print('x <= y', (x <= y))\n",
    "    print('x >= y', (x >= y))\n",
    "    print('x in li', (x in li)) \n",
    "    print('y in li', (y in li))\n",
    "if __name__ == '__main__':\n",
    "    main()"
   ]
  },
  {
   "cell_type": "markdown",
   "id": "f7aecfcd-1ec9-41ac-98ba-9018a9494d72",
   "metadata": {},
   "source": [
    "# operator logika"
   ]
  },
  {
   "cell_type": "code",
   "execution_count": 81,
   "id": "92036f81-659b-4d59-b95d-21bf5e0981e8",
   "metadata": {},
   "outputs": [
    {
     "name": "stdout",
     "output_type": "stream",
     "text": [
      "operasi AND\n",
      "true and true\t: True\n",
      "true and false\t: False\n",
      "false and true\t: False\n",
      "false and false\t: False\n"
     ]
    }
   ],
   "source": [
    "#adalah operator yang digunakan untuk melakukan operasi terhadap nilai true dan false\n",
    "#operator and (operasi AND)\n",
    "#operator or (operasi OR)\n",
    "#operator not (operasi NOT)\n",
    "\n",
    "#operasi AND\n",
    "def main():\n",
    "    print('operasi AND')\n",
    "    print('true and true\\t:', (True and True))\n",
    "    print('true and false\\t:', (True and False))\n",
    "    print('false and true\\t:', (False and True))\n",
    "    print('false and false\\t:', (False and False))\n",
    "\n",
    "if __name__ == '__main__':\n",
    "    main()\n",
    "    \n"
   ]
  },
  {
   "cell_type": "code",
   "execution_count": 99,
   "id": "b8919fa5-ed00-47b8-ad71-4724ec35e2ac",
   "metadata": {},
   "outputs": [
    {
     "name": "stdout",
     "output_type": "stream",
     "text": [
      "operasi OR\n",
      "false and false\t: False\n",
      "false and true\t: True\n",
      "true and false\t: True\n",
      "true and true\t: True\n"
     ]
    }
   ],
   "source": [
    "#operasi OR\n",
    "def main():\n",
    "    print('operasi OR')\n",
    "    print('false and false\\t:', (False and False))\n",
    "    print('false and true\\t:', (True and True))\n",
    "    print('true and false\\t:', (True and True))\n",
    "    print('true and true\\t:', (True and True))\n",
    "\n",
    "if __name__ == '__main__':\n",
    "    main()"
   ]
  },
  {
   "cell_type": "code",
   "execution_count": 111,
   "id": "cf21d917-6508-4e47-9881-d585ed467159",
   "metadata": {},
   "outputs": [
    {
     "name": "stdout",
     "output_type": "stream",
     "text": [
      "operasi NOT\n",
      "false  : True\n",
      "true   : False\n"
     ]
    }
   ],
   "source": [
    "#operasi NOT\n",
    "def main():\n",
    "    print('operasi NOT')\n",
    "    print('false  :', (True))\n",
    "    print('true   :', (False))\n",
    "   \n",
    "if __name__ == '__main__':\n",
    "    main()"
   ]
  },
  {
   "cell_type": "markdown",
   "id": "d9a0a42a-f498-4111-a23c-ae23ccbd9707",
   "metadata": {},
   "source": [
    "# operator string"
   ]
  },
  {
   "cell_type": "code",
   "execution_count": 122,
   "id": "6054d37d-f763-47ec-b45c-d3955379f2a4",
   "metadata": {},
   "outputs": [
    {
     "name": "stdout",
     "output_type": "stream",
     "text": [
      "politekniktakumi\n"
     ]
    }
   ],
   "source": [
    "#string dapat disatukan dengan string lainnya menggunakan operator '+'\n",
    "\n",
    "#contoh\n",
    "str1 = 'politeknik'\n",
    "str2 = 'takumi'\n",
    "\n",
    "#menjumlahkan string\n",
    "str3 = str1 + str2\n",
    "print(str3)"
   ]
  },
  {
   "cell_type": "code",
   "execution_count": 124,
   "id": "bc559af1-808a-437e-9b4b-b862fefd5b0d",
   "metadata": {},
   "outputs": [
    {
     "name": "stdout",
     "output_type": "stream",
     "text": [
      "bil1 :15\n",
      "bil 2:7.25\n"
     ]
    }
   ],
   "source": [
    "#jika string akan digabung dengan nilai numerik maka nilai numerik tsb perlu dikonversikan kedalam tipe str\n",
    "\n",
    "#contoh \n",
    "bil1 = 15\n",
    "bil2 = 7.25\n",
    "print('bil1 :' + str(bil1))\n",
    "print('bil 2:' + str(bil2))"
   ]
  },
  {
   "cell_type": "code",
   "execution_count": 128,
   "id": "c22562a2-1a33-49fa-9b8d-13350c0e7ea4",
   "metadata": {},
   "outputs": [
    {
     "name": "stdout",
     "output_type": "stream",
     "text": [
      "bil1 : 15\n",
      "bil1 : 7.25\n"
     ]
    }
   ],
   "source": [
    "#cara lain menyambung nilai numerik dgn string membuat string terformat\n",
    "\n",
    "#contoh\n",
    "bil1 = 15\n",
    "bil2 = 7.25\n",
    "\n",
    "str1 = 'bil1 : %d' % bil1\n",
    "str2 = 'bil1 : %.2f' % bil2\n",
    "\n",
    "print(str1)\n",
    "print(str2)"
   ]
  },
  {
   "cell_type": "code",
   "execution_count": 132,
   "id": "c6c8413d-5cad-490b-9020-d798ed2e9b82",
   "metadata": {},
   "outputs": [
    {
     "name": "stdout",
     "output_type": "stream",
     "text": [
      "'mahadika' ada didalam string arvin\n"
     ]
    }
   ],
   "source": [
    "# operator 'in' untuk memeriksa apakah karakter atau substring tertentu ada di dalam string\n",
    "\n",
    "#contoh\n",
    "arvin = 'pradipta mahadika'\n",
    "if 'mahadika' in arvin:\n",
    "    print(\"'mahadika' ada didalam string arvin\")\n",
    "else:\n",
    "89    print(\"mahadika' ada didalam string arvin\")"
   ]
  },
  {
   "cell_type": "code",
   "execution_count": 142,
   "id": "0ba433d7-3147-430b-8b0f-4d8f77c5eb72",
   "metadata": {},
   "outputs": [
    {
     "name": "stdout",
     "output_type": "stream",
     "text": [
      "TTT\n",
      "TTT  TTT  TTT  TTT  TTT  TTT  TTT  \n"
     ]
    }
   ],
   "source": [
    "#menerapkan operator '*' kedalam str utk mengulang karakter\n",
    "\n",
    "#contoh\n",
    "karakter = 'T'\n",
    "teks = karakter * 3\n",
    "print(teks)\n",
    "\n",
    "print((teks + '  ')*7)"
   ]
  },
  {
   "cell_type": "code",
   "execution_count": 144,
   "id": "1cccd76e-14cc-44ed-a24f-db46c2043605",
   "metadata": {},
   "outputs": [
    {
     "name": "stdout",
     "output_type": "stream",
     "text": [
      "takumi  takumi  takumi  takumi  takumi  takumi  takumi  \n"
     ]
    }
   ],
   "source": [
    "#contoh\n",
    "\n",
    "print(('takumi' + '  ')*7)"
   ]
  },
  {
   "cell_type": "markdown",
   "id": "2c4284f3-9a12-425f-88fa-49b723b39d72",
   "metadata": {},
   "source": [
    "# operator bitwise"
   ]
  },
  {
   "cell_type": "code",
   "execution_count": 168,
   "id": "cebdcc6c-4955-4c24-a8b3-a97fed850b26",
   "metadata": {},
   "outputs": [
    {
     "name": "stdout",
     "output_type": "stream",
     "text": [
      "x:\t10\n",
      "y:\t5\n",
      "\n",
      "Bitwise AND\n",
      "x&y \t:0\n",
      "\n",
      "Bitwise OR\n",
      "x|y \t:15\n",
      "\n",
      "Bitwise XOR\n",
      "x^y \t:15\n",
      "\n",
      "Bitwise NOT\n",
      "~x \t:-11\n",
      "~y \t:-6\n",
      "\n",
      "Bitwise SHIFT LEFT\n",
      "x<<1 \t:20\n",
      "y<<1 \t:10\n",
      "\n",
      "Bitwise SHIFT RIGHT\n",
      "x>>1 \t:5\n",
      "y>>1 \t:2\n"
     ]
    }
   ],
   "source": [
    "#operasi bitwise bertipe bilangan bulat (integer) \n",
    "#variable pertama akan dikonversikan menjadi bentuk binner (basis 2)\n",
    "#bentuk operator:\n",
    "# & (bitwise AND)\n",
    "# | (bitwise OR)\n",
    "# ^ (bitwise XOR)\n",
    "# ~ (bitwise NOT)\n",
    "# << (bitwise shift left)\n",
    "# >> (bitwise shift right)\n",
    "\n",
    "#contoh\n",
    "def main ():\n",
    "    x = 10 #dalam bentuk biner 1010\n",
    "    y = 5 #dalam bentuk biner 0101\n",
    "\n",
    "#menampilkan nilai x dan y\n",
    "    print('x:\\t' + str(x))\n",
    "    print('y:\\t' + str(y))\n",
    "\n",
    "    print(\"\\nBitwise AND\")\n",
    "    print(\"x&y \\t:\" + str(x&y))\n",
    "\n",
    "    print(\"\\nBitwise OR\")\n",
    "    print(\"x|y \\t:\" + str(x|y))\n",
    "\n",
    "    print(\"\\nBitwise XOR\")\n",
    "    print(\"x^y \\t:\" + str(x^y))\n",
    "\n",
    "    print(\"\\nBitwise NOT\")\n",
    "    print(\"~x \\t:\" + str(~x))\n",
    "    print(\"~y \\t:\" + str(~y))\n",
    "\n",
    "    print(\"\\nBitwise SHIFT LEFT\")\n",
    "    print(\"x<<1 \\t:\" + str(x<<1))\n",
    "    print(\"y<<1 \\t:\" + str(y<<1))\n",
    "\n",
    "\n",
    "    print(\"\\nBitwise SHIFT RIGHT\")\n",
    "    print(\"x>>1 \\t:\" + str(x>>1))\n",
    "    print(\"y>>1 \\t:\" + str(y>>1))\n",
    "\n",
    "if __name__ == '__main__':\n",
    "    main()\n"
   ]
  },
  {
   "cell_type": "code",
   "execution_count": null,
   "id": "cf841c6d-306e-44ca-9ad1-1b2fcfb32885",
   "metadata": {},
   "outputs": [],
   "source": []
  }
 ],
 "metadata": {
  "kernelspec": {
   "display_name": "Python 3 (ipykernel)",
   "language": "python",
   "name": "python3"
  },
  "language_info": {
   "codemirror_mode": {
    "name": "ipython",
    "version": 3
   },
   "file_extension": ".py",
   "mimetype": "text/x-python",
   "name": "python",
   "nbconvert_exporter": "python",
   "pygments_lexer": "ipython3",
   "version": "3.12.4"
  }
 },
 "nbformat": 4,
 "nbformat_minor": 5
}
