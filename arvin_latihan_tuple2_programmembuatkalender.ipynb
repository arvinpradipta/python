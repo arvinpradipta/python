{
 "cells": [
  {
   "cell_type": "code",
   "execution_count": 7,
   "id": "28f02b61-b6a1-4e80-9b07-510c3e9ee704",
   "metadata": {},
   "outputs": [
    {
     "name": "stdout",
     "output_type": "stream",
     "text": [
      "2024-10-02\n"
     ]
    },
    {
     "ename": "TypeError",
     "evalue": "unsupported operand type(s) for -: 'str' and 'int'",
     "output_type": "error",
     "traceback": [
      "\u001b[1;31m---------------------------------------------------------------------------\u001b[0m",
      "\u001b[1;31mTypeError\u001b[0m                                 Traceback (most recent call last)",
      "Cell \u001b[1;32mIn[7], line 15\u001b[0m\n\u001b[0;32m     12\u001b[0m dd \u001b[38;5;241m=\u001b[39m today[:\u001b[38;5;241m8\u001b[39m]\n\u001b[0;32m     14\u001b[0m \u001b[38;5;28mprint\u001b[39m(today)\n\u001b[1;32m---> 15\u001b[0m \u001b[38;5;28mprint\u001b[39m(\u001b[38;5;124m'\u001b[39m\u001b[38;5;132;01m%s\u001b[39;00m\u001b[38;5;124m \u001b[39m\u001b[38;5;132;01m%s\u001b[39;00m\u001b[38;5;124m \u001b[39m\u001b[38;5;132;01m%s\u001b[39;00m\u001b[38;5;124m'\u001b[39m \u001b[38;5;241m%\u001b[39m (dd, BULAN[\u001b[38;5;28mint\u001b[39m (mm)]\u001b[38;5;241m-\u001b[39m\u001b[38;5;241m1\u001b[39m, yyyy))\n",
      "\u001b[1;31mTypeError\u001b[0m: unsupported operand type(s) for -: 'str' and 'int'"
     ]
    }
   ],
   "source": [
    "#Membuat Kalender\n",
    "\n",
    "import datetime as dt\n",
    "#Tuple untuk nama bulan\n",
    "BULAN = ('January', 'February', 'March','April','Mei','June','July','August','September','Oktober','November','Desember')\n",
    "#Today akan berisi : 'YYYY-MM-DD'\n",
    "\n",
    "today = dt.date.isoformat(dt.date.today())\n",
    "\n",
    "yyyy = today[:4]\n",
    "mm = today[5:7]\n",
    "dd = today [8:]\n",
    "\n",
    "print(today)\n",
    "print('%s %s %s' %(dd, BULAN[int(mm)-1],yyyy))\n",
    "\n",
    "#Penjelasan :\n",
    "#Metode Isoformat() dari kelas date yang tersimpan didalam modul datetime berfungsi untuk mengembalikan tanggal yang dilewatkan\n",
    "#Tanggal saat ini dapat diperoleh dengan memanggil metode today()dari kelas date.\n",
    "#Pada kode diatas, digunakan Tuple untuk menyimpan nama-nama bulan"
   ]
  },
  {
   "cell_type": "code",
   "execution_count": null,
   "id": "ad368cde-aef8-4c7d-8c74-7fa274e8fecf",
   "metadata": {},
   "outputs": [],
   "source": []
  }
 ],
 "metadata": {
  "kernelspec": {
   "display_name": "Python 3 (ipykernel)",
   "language": "python",
   "name": "python3"
  },
  "language_info": {
   "codemirror_mode": {
    "name": "ipython",
    "version": 3
   },
   "file_extension": ".py",
   "mimetype": "text/x-python",
   "name": "python",
   "nbconvert_exporter": "python",
   "pygments_lexer": "ipython3",
   "version": "3.12.4"
  }
 },
 "nbformat": 4,
 "nbformat_minor": 5
}
