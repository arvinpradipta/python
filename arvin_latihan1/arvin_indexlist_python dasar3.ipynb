{
 "cells": [
  {
   "cell_type": "code",
   "execution_count": 15,
   "id": "d98d07f4-9794-4724-a408-04ea1b9abe03",
   "metadata": {},
   "outputs": [
    {
     "name": "stdout",
     "output_type": "stream",
     "text": [
      "index list\n",
      "10\n",
      "30\n",
      "50\n",
      "50\n",
      "40\n",
      "10\n",
      "banyaknya elemen\n",
      "5\n"
     ]
    }
   ],
   "source": [
    "#dalam python mirip dengan array normal\n",
    "#dalam list, elemen tidak diindeks berdasarkan kunci (key) tertentu\n",
    "#indeks bilangan selalu diawali dari nilai nol (0)\n",
    "#indeks negatif ditentukan dari arah kanan, dan mulai dari -1\n",
    "#bentuk umum: nama_list =[nilai1, nilai2, nilai3,...]\n",
    "\n",
    "\n",
    "#contoh\n",
    "list = [10, 20, 30, 40, 50] #jika list index ditambah maka akan menyesuaikan\n",
    "\n",
    "#indeks elemen didalam list berdasarkan posisi\n",
    "print('index list')\n",
    "print(list[0]) #bernilai 10\n",
    "print(list[2]) #bernilai 30\n",
    "print(list[4]) #bernilai 50\n",
    "print(list[-1]) #bernilai 50\n",
    "print(list[-2]) #bernilai 40\n",
    "print(list[-5]) #bernilai 10\n",
    "print('banyaknya elemen')\n",
    "print(len(list))"
   ]
  },
  {
   "cell_type": "code",
   "execution_count": 21,
   "id": "c3a48856-76e0-41cd-9e87-daf157186a04",
   "metadata": {},
   "outputs": [
    {
     "name": "stdout",
     "output_type": "stream",
     "text": [
      "sebelum dipotong\n",
      "[10, 20, 30, 40, 50]\n",
      "setelah dipotong\n",
      "[10, 20, 30, 40]\n",
      "[10]\n",
      "[50]\n"
     ]
    }
   ],
   "source": [
    "#slicing (memotong) elemen didalam list\n",
    "print('sebelum dipotong')\n",
    "print(list)\n",
    "print('setelah dipotong')\n",
    "print(list[:-1]) #apabila ':' berada disebelah kiri maka yang akan terlihat dari -1 ke kiri (SLICING/MEMOTONG ELEMEN PERTAMA DARI KANAN)\n",
    "print(list[:1]) #apabila ':' berada di kiri maka dihitung dari dari 10 / 1 (MEMOTONG ELEMEN PERTAMA DARI KIRI)\n",
    "print(list[-1:]) #apabila ':' berada di kanan makan perhitungan nya dari 50 dst (MEMOTONG ELEMEN DARI KANAN KECUALI ELEMEN -1)"
   ]
  },
  {
   "cell_type": "code",
   "execution_count": 25,
   "id": "c7da3772-6bab-4d3c-8e50-bb3d4a408d0f",
   "metadata": {},
   "outputs": [
    {
     "name": "stdout",
     "output_type": "stream",
     "text": [
      "sebelum digabung:\n",
      "[10, 20, 30, 40, 50]\n",
      "setelah digabung:\n",
      "[10, 20, 30, 40, 50, 60, 70, 80]\n"
     ]
    }
   ],
   "source": [
    "#contoh\n",
    "list = [10, 20, 30, 40, 50]\n",
    "\n",
    "#menggabungkan elemen list dan membuat daftar list baru\n",
    "print('sebelum digabung:')\n",
    "print(list)\n",
    "print('setelah digabung:')\n",
    "print(list + [60, 70, 80])"
   ]
  },
  {
   "cell_type": "code",
   "execution_count": 52,
   "id": "226a21c0-92de-47ed-8d86-ddc1f04b2104",
   "metadata": {},
   "outputs": [
    {
     "name": "stdout",
     "output_type": "stream",
     "text": [
      "index negara:\n",
      "cina\n",
      "jepang\n",
      "indonesia\n",
      "korea\n",
      "amerika\n",
      "banyak elemen:\n",
      "5\n"
     ]
    }
   ],
   "source": [
    "# latihan\n",
    "#type string (min 5 elemen)\n",
    "list = ['cina', 'jepang', 'amerika', 'korea', 'indonesia']\n",
    "print('index negara:')\n",
    "print(list[0]) #cina\n",
    "print(list[1]) #jepang\n",
    "print(list[-1]) #indonesia\n",
    "print(list[-2]) #korea\n",
    "print(list[-3]) #amerika\n",
    "print('banyak elemen:')\n",
    "print(len(list))"
   ]
  },
  {
   "cell_type": "code",
   "execution_count": 50,
   "id": "5965ebab-ffc4-4fce-87ba-52e25bcd2e2b",
   "metadata": {},
   "outputs": [
    {
     "name": "stdout",
     "output_type": "stream",
     "text": [
      "sebelum dipotong:\n",
      "[53, 59, 61, 67, 71]\n",
      "setelah dipotong\n",
      "[53, 59, 61, 67]\n",
      "[53]\n",
      "[71]\n"
     ]
    }
   ],
   "source": [
    "#slicing atau memotong elemen dalam list\n",
    "print('sebelum dipotong:')\n",
    "print(list)\n",
    "print('setelah dipotong')\n",
    "print(list[:-1])\n",
    "print(list[:1])\n",
    "print(list[-1:])"
   ]
  },
  {
   "cell_type": "code",
   "execution_count": 37,
   "id": "9d719e20-672d-48e1-b543-480534c2e026",
   "metadata": {},
   "outputs": [
    {
     "name": "stdout",
     "output_type": "stream",
     "text": [
      "sebelum digabung:\n",
      "['cina', 'jepang', 'amerika', 'korea', 'indonesia']\n",
      "setelah digabung:\n",
      "['cina', 'jepang', 'amerika', 'korea', 'indonesia', 'brazil', 'amerisya usyara', 'rusia']\n"
     ]
    }
   ],
   "source": [
    "#menggabungkan elemen list dan membuat daftar list baru\n",
    "print('sebelum digabung:')\n",
    "print(list)\n",
    "print('setelah digabung:')\n",
    "print(list + ['brazil', 'amerisya usyara', 'rusia'])"
   ]
  },
  {
   "cell_type": "code",
   "execution_count": 43,
   "id": "c2dc011e-b7f6-49e0-9a71-f234e28e9ce1",
   "metadata": {},
   "outputs": [
    {
     "name": "stdout",
     "output_type": "stream",
     "text": [
      "index list:\n",
      "71\n",
      "67\n",
      "61\n",
      "59\n",
      "53\n",
      "banyak eleman:\n",
      "5\n"
     ]
    }
   ],
   "source": [
    "#bilangan prima\n",
    "list = [53, 59, 61, 67, 71]\n",
    "print('index list:')\n",
    "print(list[-1])\n",
    "print(list[-2])\n",
    "print(list[2])\n",
    "print(list[1])\n",
    "print(list[0])\n",
    "print('banyak eleman:')\n",
    "print(len(list))"
   ]
  },
  {
   "cell_type": "code",
   "execution_count": 45,
   "id": "d4f78b8f-dd8d-4b17-922a-9664a60bf0e0",
   "metadata": {},
   "outputs": [
    {
     "name": "stdout",
     "output_type": "stream",
     "text": [
      "sebelum dipotong:\n",
      "[53, 59, 61, 67, 71]\n",
      "setelah dipotong\n",
      "[53, 59, 61, 67]\n",
      "[53]\n",
      "[71]\n"
     ]
    }
   ],
   "source": [
    "#slicing atau memotong elemen dalam list\n",
    "print('sebelum dipotong:')\n",
    "print(list)\n",
    "print('setelah dipotong')\n",
    "print(list[:-1])\n",
    "print(list[:1])\n",
    "print(list[-1:])"
   ]
  },
  {
   "cell_type": "code",
   "execution_count": 47,
   "id": "8fb532e4-8196-4a4a-946d-312198d82d9b",
   "metadata": {},
   "outputs": [
    {
     "name": "stdout",
     "output_type": "stream",
     "text": [
      "sebelum digabung:\n",
      "[53, 59, 61, 67, 71]\n",
      "setelah digabung:\n",
      "[53, 59, 61, 67, 71, 73, 79, 83]\n"
     ]
    }
   ],
   "source": [
    "#menggabungkan elemen list dan membuat daftar list baru\n",
    "print('sebelum digabung:')\n",
    "print(list)\n",
    "print('setelah digabung:')\n",
    "print(list + [73, 79, 83])"
   ]
  },
  {
   "cell_type": "code",
   "execution_count": 56,
   "id": "b26fd23b-89c6-4325-8c9b-0190745f0c6b",
   "metadata": {},
   "outputs": [
    {
     "name": "stdout",
     "output_type": "stream",
     "text": [
      "[53, 'cina', 59, 'jepang', 61, 'amerika', 67, 'korea', 71, 'indonesia']\n",
      "53\n",
      "cina\n",
      "59\n",
      "jepang\n",
      "61\n",
      "amerika\n",
      "67\n",
      "korea\n",
      "71\n",
      "indonesia\n"
     ]
    }
   ],
   "source": [
    "# dalam python, nilai elemen didalam list bisa berasal dari tipe data berbeda\n",
    "\n",
    "#contoh\n",
    "list = [53, 'cina', 59,'jepang', 61, 'amerika', 67, 'korea', 71, 'indonesia']\n",
    "\n",
    "#menampilkan dalam list \n",
    "print(list)\n",
    "\n",
    "#index elemen list\n",
    "print(list[0])\n",
    "print(list[1])\n",
    "print(list[2])\n",
    "print(list[3])\n",
    "print(list[4])\n",
    "print(list[5])\n",
    "print(list[-4])\n",
    "print(list[-3])\n",
    "print(list[-2])\n",
    "print(list[-1])\n",
    "\n"
   ]
  },
  {
   "cell_type": "code",
   "execution_count": 80,
   "id": "17ff7a64-90a5-4792-86b7-94938a617d98",
   "metadata": {},
   "outputs": [
    {
     "name": "stdout",
     "output_type": "stream",
     "text": [
      "arvin pradipta mahadika,\n",
      "['prumahan kahuripan, jl. raya bukit indra prasta', 'jawa barat', 16310]\n",
      "08972666166\n"
     ]
    }
   ],
   "source": [
    "#nilai elemen dalam list bisa merupakan list lain\n",
    "#konsep sama dengan array multidimensional\n",
    "\n",
    "#contoh\n",
    "list = [1, 'arvin pradipta mahadika,', ['prumahan kahuripan, jl. raya bukit indra prasta', 'jawa barat', 16310], '08972666166']\n",
    "\n",
    "print(list[1][0:])\n",
    "print(list[2])\n",
    "print(list[3])\n",
    "\n"
   ]
  },
  {
   "cell_type": "code",
   "execution_count": 113,
   "id": "95f3fcc2-81ed-40d3-9008-b1077431dbe1",
   "metadata": {},
   "outputs": [
    {
     "name": "stdout",
     "output_type": "stream",
     "text": [
      "matrix 3x3\n",
      "[[1, 2, 3], [4, 5, 6], [7, 8, 9]]\n",
      "mengambil baris ke-2:\n",
      "[4, 5, 6]\n",
      "mengambil baris ke-2, lalu dapatkan item ke-3 didalam baris\n",
      "(2, 4, 8)\n"
     ]
    }
   ],
   "source": [
    "#contoh array multidimensional (nesting) dalam bentuk matriks\n",
    "M = [[1, 2, 3],\n",
    "     [4, 5, 6],\n",
    "     [7, 8, 9]]\n",
    "\n",
    "print('matrix 3x3')\n",
    "print(M) #menampilkan matrix 3x3\n",
    "\n",
    "print('mengambil baris ke-2:')\n",
    "print(M[1]) #menampilkan baris ke2\n",
    "\n",
    "print('mengambil baris ke-2, lalu dapatkan item ke-3 didalam baris')\n",
    "matrix = ((M[0][1]), (M[1][0]), (M[2][1]))\n",
    "print(matrix)"
   ]
  },
  {
   "cell_type": "code",
   "execution_count": 119,
   "id": "e095d110-4fc3-46d5-a5a9-ebc81e2b3888",
   "metadata": {},
   "outputs": [
    {
     "name": "stdout",
     "output_type": "stream",
     "text": [
      "matrix 3x3\n",
      "[[1, 2, 3], [4, 5, 6], [7, 8, 9]]\n",
      "hasil penambahan 1 untuk setiap item dikolom 2\n",
      "[3, 6, 9]\n",
      "matriks 3x3 sebelum penyaringan data:\n",
      "[[1, 2, 3], [4, 5, 6], [7, 8, 9]]\n",
      "data matriks yang telah disaring\n",
      "[2, 8]\n",
      "matriks 3x3\n",
      "[[1, 2, 3], [4, 5, 6], [7, 8, 9]]\n",
      "bentuk diagonal matriks\n",
      "[1, 5, 9]\n"
     ]
    }
   ],
   "source": [
    "#memebuat matriks\n",
    "M = [[1, 2, 3],\n",
    "     [4, 5, 6],\n",
    "     [7, 8, 9]]\n",
    "\n",
    "print('matrix 3x3')\n",
    "print(M)\n",
    "\n",
    "#menambahkan 1 untuk setiap item dikolom\n",
    "M1 = [row[1]+1 for row in M]\n",
    "print('hasil penambahan 1 untuk setiap item dikolom 2')\n",
    "print(M1)\n",
    "\n",
    "\n",
    "#menyaring item data pada matrik\n",
    "print('matriks 3x3 sebelum penyaringan data:')\n",
    "print(M)\n",
    "M2 = [row[1] for row in M if row [1] %2 == 0]\n",
    "print('data matriks yang telah disaring')\n",
    "print(M2)\n",
    "\n",
    "\n",
    "#mengumpulkan diagonal matriks\n",
    "print('matriks 3x3')\n",
    "print(M)\n",
    "diag = [M[i][i] for i in [0, 1, 2]]\n",
    "print('bentuk diagonal matriks')\n",
    "print(diag)"
   ]
  },
  {
   "cell_type": "markdown",
   "id": "cd6cd09c-33dd-40f8-b192-71761c24b316",
   "metadata": {},
   "source": [
    "# latihan\n",
    "\n",
    "\n",
    "\n",
    "\n",
    "\n",
    "\n",
    "\n"
   ]
  },
  {
   "cell_type": "code",
   "execution_count": 144,
   "id": "4112e4bf-e399-4bae-8676-d2725315c14a",
   "metadata": {},
   "outputs": [
    {
     "name": "stdout",
     "output_type": "stream",
     "text": [
      "elemen awal:\n",
      "['cina', 'jepang', 'amerika']\n",
      "\n",
      "Setelah append():\n",
      "['cina', 'jepang', 'amerika', 'indonesia']\n",
      "\n",
      "Setelah insert():\n",
      "['cina', 'brazil', 'jepang', 'amerika', 'indonesia']\n",
      "nSetelah extend ():\n",
      "['cina', 'brazil', 'jepang', 'amerika', 'indonesia', 'mongolia', 'prancis']\n"
     ]
    }
   ],
   "source": [
    "#menambah elemen kedalam list\n",
    "negara = ['cina', 'jepang', 'amerika']\n",
    "print('elemen awal:')\n",
    "print(negara)\n",
    "\n",
    "#menggunakan metode append (); untk menambah elemen tunggal dibagian akhir list\n",
    "negara.append('indonesia')\n",
    "print('\\nSetelah append():')\n",
    "print(negara)\n",
    "\n",
    "#menggunakan metode insert (), untuk menambahkan elemen tunggal di indeks\n",
    "negara.insert(1,'brazil')\n",
    "print('\\nSetelah insert():')\n",
    "print(negara)\n",
    "\n",
    "#menggunakan metode extend (), untuk menyambung atau menggabungkan suatu list dengan list lainnya\n",
    "negara.extend(['mongolia', 'prancis'])\n",
    "print('nSetelah extend ():')\n",
    "print(negara)\n"
   ]
  },
  {
   "cell_type": "code",
   "execution_count": 146,
   "id": "1d6dcd45-8c7f-4b1d-828c-2e99cbb568c2",
   "metadata": {},
   "outputs": [
    {
     "name": "stdout",
     "output_type": "stream",
     "text": [
      "elemen awal:\n",
      "[31, 37, 41]\n",
      "\n",
      "Setelah append():\n",
      "[31, 37, 41, 43]\n",
      "\n",
      "Setelah insert():\n",
      "[31, 47, 37, 41, 43]\n",
      "nSetelah extend ():\n",
      "[31, 47, 37, 41, 43, 53, 59]\n"
     ]
    }
   ],
   "source": [
    "#menambah elemen kedalam list\n",
    "biner = [31, 37, 41]\n",
    "print('elemen awal:')\n",
    "print(biner)\n",
    "\n",
    "#menggunakan metode append (); untk menambah elemen tunggal dibagian akhir list\n",
    "biner.append(43)\n",
    "print('\\nSetelah append():')\n",
    "print(biner)\n",
    "\n",
    "#menggunakan metode insert (), untuk menambahkan elemen tunggal di indeks\n",
    "biner.insert(1,47)\n",
    "print('\\nSetelah insert():')\n",
    "print(biner)\n",
    "\n",
    "#menggunakan metode extend (), untuk menyambung atau menggabungkan suatu list dengan list lainnya\n",
    "biner.extend([53, 59])\n",
    "print('nSetelah extend ():')\n",
    "print(biner)\n"
   ]
  },
  {
   "cell_type": "code",
   "execution_count": null,
   "id": "5157f625-a3c8-42ec-96ab-e59da688f122",
   "metadata": {},
   "outputs": [],
   "source": []
  }
 ],
 "metadata": {
  "kernelspec": {
   "display_name": "Python 3 (ipykernel)",
   "language": "python",
   "name": "python3"
  },
  "language_info": {
   "codemirror_mode": {
    "name": "ipython",
    "version": 3
   },
   "file_extension": ".py",
   "mimetype": "text/x-python",
   "name": "python",
   "nbconvert_exporter": "python",
   "pygments_lexer": "ipython3",
   "version": "3.12.4"
  }
 },
 "nbformat": 4,
 "nbformat_minor": 5
}
