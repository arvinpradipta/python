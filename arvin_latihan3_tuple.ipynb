{
 "cells": [
  {
   "cell_type": "code",
   "execution_count": 17,
   "id": "14823f58-61bf-4fcb-831b-60b9f7f85afc",
   "metadata": {},
   "outputs": [
    {
     "name": "stdout",
     "output_type": "stream",
     "text": [
      "sebelum diubah:\n",
      "['pohon mangga', 'pohon pisang', 'pohon bintaro']\n",
      "setelah diubah:\n",
      "['pohon mangga', 'pohon jati', 'pohon pepaya']\n"
     ]
    }
   ],
   "source": [
    "#mengubah nilai elemen didalam list\n",
    "\n",
    "# membuat list\n",
    "pohon = ['pohon mangga', 'pohon pisang', 'pohon bintaro']\n",
    "print('sebelum diubah:')\n",
    "print(pohon)\n",
    "\n",
    "# mengubah nilai elemen dalam list\n",
    "pohon[1] = 'pohon jati'\n",
    "pohon[-1] = 'pohon pepaya'\n",
    "\n",
    "# menampilkan hasil perubahan\n",
    "print('setelah diubah:')\n",
    "print(pohon)"
   ]
  },
  {
   "cell_type": "code",
   "execution_count": 47,
   "id": "6638b6ae-927c-46e7-8ff9-c48dcc25de8b",
   "metadata": {},
   "outputs": [
    {
     "name": "stdout",
     "output_type": "stream",
     "text": [
      "sebelum dihapus:\n",
      "['joni', 'asep', 'joko', 'ucup', 'kuceng']\n",
      "setelah dihapus dengan metode remove():\n",
      "['asep', 'joko', 'ucup']\n"
     ]
    }
   ],
   "source": [
    "# menghapus elemen dari list\n",
    "\n",
    "# membuat list \n",
    "nama = ['joni', 'asep', 'joko', 'ucup', 'kuceng']\n",
    "print('sebelum dihapus:')\n",
    "print(nama)\n",
    "\n",
    "#menggunakan remove (); menghaous elemen list berdasarkan nilainya\n",
    "#bentuk umum: nama_variable.remove()\n",
    "nama.remove('joni')\n",
    "nama.remove('kuceng')\n",
    "\n",
    "#menampilkan hasil stelah dihapus dengan metode remove():\n",
    "print('setelah dihapus dengan metode remove():')\n",
    "print(nama)\n",
    "\n",
    "#menggunakan del[]; menghapus elemen list berdasarkn indeksnya \n",
    "# bentuk umum : delm_nama_varibel[indeks]\n",
    "del nama[2]\n",
    "del nama[-2]\n",
    "\n",
    "#menampilkan"
   ]
  },
  {
   "cell_type": "code",
   "execution_count": 55,
   "id": "c328e762-ea48-4309-b8ce-49be2e746867",
   "metadata": {},
   "outputs": [
    {
     "name": "stdout",
     "output_type": "stream",
     "text": [
      "('pepaya', 'jambu', 'pisang', 'semangka')\n",
      "pepaya berada pada indeks ke:\n",
      "0\n",
      "jambu berada pada indeks ke:\n",
      "1\n",
      "semangka pada indeks ke:\n",
      "3\n"
     ]
    }
   ],
   "source": [
    "#\n",
    "\n",
    "# buat list\n",
    "buah = ('pepaya', 'jambu', 'pisang', 'semangka')\n",
    "print(buah)\n",
    "# mencari elemen\n",
    "print('pepaya berada pada indeks ke:')\n",
    "print(buah.index('pepaya'))\n",
    "print('jambu berada pada indeks ke:')\n",
    "print(buah.index('jambu'))\n",
    "print('semangka pada indeks ke:')\n",
    "print(buah.index('semangka'))"
   ]
  },
  {
   "cell_type": "code",
   "execution_count": 99,
   "id": "f1f4c102-727a-43d6-988b-d5a79af5901c",
   "metadata": {},
   "outputs": [
    {
     "name": "stdout",
     "output_type": "stream",
     "text": [
      "data list awal:\n",
      "('pepaya', 'jambu', 'pisang', 'semangka')\n",
      "setelah di sort:\n"
     ]
    },
    {
     "ename": "AttributeError",
     "evalue": "'tuple' object has no attribute 'sort'",
     "output_type": "error",
     "traceback": [
      "\u001b[1;31m---------------------------------------------------------------------------\u001b[0m",
      "\u001b[1;31mAttributeError\u001b[0m                            Traceback (most recent call last)",
      "Cell \u001b[1;32mIn[99], line 10\u001b[0m\n\u001b[0;32m      8\u001b[0m \u001b[38;5;28mprint\u001b[39m(buah)\n\u001b[0;32m      9\u001b[0m \u001b[38;5;28mprint\u001b[39m(\u001b[38;5;124m'\u001b[39m\u001b[38;5;124msetelah di sort:\u001b[39m\u001b[38;5;124m'\u001b[39m)\n\u001b[1;32m---> 10\u001b[0m buah\u001b[38;5;241m.\u001b[39msort()\n\u001b[0;32m     11\u001b[0m \u001b[38;5;28mprint\u001b[39m(buah)\n",
      "\u001b[1;31mAttributeError\u001b[0m: 'tuple' object has no attribute 'sort'"
     ]
    }
   ],
   "source": [
    "#menyusun list menggunakan metode sort() dan reverse()\n",
    "\n",
    "#buat list\n",
    "buah = ('pepaya', 'jambu', 'pisang', 'semangka')\n",
    "\n",
    "# metode sort\n",
    "print('data list awal:')\n",
    "print(buah)\n",
    "print('setelah di sort:')\n",
    "buah.sort()\n",
    "print(buah)\n",
    "\n"
   ]
  },
  {
   "cell_type": "code",
   "execution_count": 75,
   "id": "bf7eaff8-6f72-467f-a6d5-5a57ac58d776",
   "metadata": {},
   "outputs": [
    {
     "name": "stdout",
     "output_type": "stream",
     "text": [
      "data list awal:\n",
      "('bb', 'cc', 'aa')\n",
      "setelah di sort:\n"
     ]
    },
    {
     "ename": "AttributeError",
     "evalue": "'tuple' object has no attribute 'reverse'",
     "output_type": "error",
     "traceback": [
      "\u001b[1;31m---------------------------------------------------------------------------\u001b[0m",
      "\u001b[1;31mAttributeError\u001b[0m                            Traceback (most recent call last)",
      "Cell \u001b[1;32mIn[75], line 5\u001b[0m\n\u001b[0;32m      3\u001b[0m \u001b[38;5;28mprint\u001b[39m(L)\n\u001b[0;32m      4\u001b[0m \u001b[38;5;28mprint\u001b[39m(\u001b[38;5;124m'\u001b[39m\u001b[38;5;124msetelah di sort:\u001b[39m\u001b[38;5;124m'\u001b[39m)\n\u001b[1;32m----> 5\u001b[0m L\u001b[38;5;241m.\u001b[39mreverse()\n\u001b[0;32m      6\u001b[0m \u001b[38;5;28mprint\u001b[39m(L)\n",
      "\u001b[1;31mAttributeError\u001b[0m: 'tuple' object has no attribute 'reverse'"
     ]
    }
   ],
   "source": [
    "# metode sort\n",
    "print('data list awal:')\n",
    "print(L)\n",
    "print('setelah di sort:')\n",
    "L.reverse()\n",
    "print(L)"
   ]
  },
  {
   "cell_type": "code",
   "execution_count": 95,
   "id": "44cab537-3494-4c6c-b77b-a3838ce103b1",
   "metadata": {},
   "outputs": [
    {
     "name": "stdout",
     "output_type": "stream",
     "text": [
      "data list:\n",
      "('politeknik', 'takumi', 'hebat')\n",
      "mengulang karakter pada item takumi sebanyak 9 kali:\n",
      "['ttttttttt', 'aaaaaaaaa', 'kkkkkkkkk', 'uuuuuuuuu', 'mmmmmmmmm', 'iiiiiiiii']\n",
      "['ttt', 'aaa', 'kkk', 'uuu', 'mmm', 'iii']\n"
     ]
    }
   ],
   "source": [
    "#mngulang karakter dalam sebuah string \n",
    "\n",
    "#membuat list\n",
    "list = ('politeknik','takumi','hebat')\n",
    "print('data list:')\n",
    "print(list)\n",
    "print('mengulang karakter pada item takumi sebanyak 9 kali:')\n",
    "doubles = [c * 9 for c in 'takumi']\n",
    "print(doubles)\n",
    "doubles1 = [c * 3 for c in 'takumi']\n",
    "print(doubles1)\n",
    "# tidak bisa digubakan dalam tipe numerik\n"
   ]
  },
  {
   "cell_type": "markdown",
   "id": "41fc9def-3a6d-4a2d-87e4-246a4084f5a2",
   "metadata": {},
   "source": [
    "# type touple"
   ]
  },
  {
   "cell_type": "code",
   "execution_count": 110,
   "id": "00fa7417-04db-439e-acdf-e6b19e6ae433",
   "metadata": {},
   "outputs": [
    {
     "name": "stdout",
     "output_type": "stream",
     "text": [
      "<class 'str'>\n",
      "('senin', 'selasa', 'rabu', 'kamis', 'jumat', 'sabtu', 'minggu')\n",
      "senin\n",
      "rabu\n",
      "sabtu\n",
      "(1, 2, 3, 4)\n",
      "4\n",
      "(1, 2, 3, 4, 5, 6)\n",
      "1\n",
      "3\n",
      "1\n",
      "('takumi', 4.0, [11, 22, 33])\n",
      "4.0\n",
      "22\n"
     ]
    }
   ],
   "source": [
    "# type touple adalah list yang tidak bisa diubah\n",
    "# tuple sebenernya mrip dengan array kostan\n",
    "# bentuk umum touple menggunakan tanda kurung()\n",
    "\n",
    "#contoh\n",
    "hari = ('senin', 'selasa', 'rabu', 'kamis','jumat','sabtu', 'minggu')\n",
    "print(type('hari'))\n",
    "\n",
    "#menampilkan hari\n",
    "print(hari)\n",
    "print(hari[0])\n",
    "print(hari[2])\n",
    "print(hari[-2])\n",
    "\n",
    "# contoh operasi pada touple\n",
    "T = (1, 2, 3, 4)\n",
    "print(T)\n",
    "\n",
    "print(len(T)) #menampilkan banyak item \n",
    "\n",
    "print(T+(5,6)) #penggabungan\n",
    "\n",
    "print(T[0]) #menampilkan indek 0\n",
    "\n",
    "print(T.index(4)) #menampilkan indek 4\n",
    "\n",
    "print(T.count(4)) #menampilkan indek 4\n",
    "\n",
    "T1 = ('takumi', 4.0, [11, 22, 33])\n",
    "print(T1)\n",
    "\n",
    "print(T1[1])\n",
    "\n",
    "print(T1[2][1])"
   ]
  },
  {
   "cell_type": "code",
   "execution_count": 122,
   "id": "97f8ea49-9090-4b55-b7dc-68d33dba8890",
   "metadata": {},
   "outputs": [
    {
     "name": "stdout",
     "output_type": "stream",
     "text": [
      "<class 'tuple'>\n",
      "('senin', 'selasa', 'rabu', 'kamis', 'jumat', 'sabtu', 'minggu')\n",
      "senin\n",
      "sabtu\n",
      "kamis\n"
     ]
    }
   ],
   "source": [
    "#tampa menggunakan tanda kurung makan adalah jenis tuple\n",
    "\n",
    "hari = 'senin', 'selasa', 'rabu', 'kamis', \\\n",
    "'jumat','sabtu', 'minggu'\n",
    "print(type(hari))\n",
    "\n",
    "print(hari)\n",
    "print(hari[0])\n",
    "print(hari[-2])\n",
    "print(hari[3])\n",
    "\n",
    "# menggunakan metode tuple tidak bisa append atau ditambah"
   ]
  },
  {
   "cell_type": "code",
   "execution_count": 124,
   "id": "2d086412-b953-4e8c-bbff-48ec5b07460d",
   "metadata": {},
   "outputs": [
    {
     "name": "stdout",
     "output_type": "stream",
     "text": [
      "data tuple:\n",
      "('senin', 'selasa', 'rabu', 'kamis', 'jumat', 'sabtu', 'minggu')\n",
      "selasa pada item tuple\n",
      "True\n",
      "ahad pada item tuple\n",
      "False\n"
     ]
    }
   ],
   "source": [
    "#tuple menggunalan op 'in' digunakan untuk memeriksa\n",
    "hari = ('senin', 'selasa', 'rabu', 'kamis','jumat','sabtu', 'minggu')\n",
    "print('data tuple:')\n",
    "print(hari)\n",
    "\n",
    "print('selasa pada item tuple')\n",
    "print('selasa' in hari)\n",
    "print('ahad pada item tuple')\n",
    "print('ahad' in hari)"
   ]
  },
  {
   "cell_type": "markdown",
   "id": "707cce3c-11c7-4b77-a5b3-dd812170f68a",
   "metadata": {},
   "source": [
    " # latihan tuple"
   ]
  },
  {
   "cell_type": "code",
   "execution_count": 151,
   "id": "04bcaf08-7099-496f-8f50-591f4894ce57",
   "metadata": {},
   "outputs": [
    {
     "name": "stdout",
     "output_type": "stream",
     "text": [
      "<class 'tuple'>\n",
      "('brazil', 'cina', 'amerisya usyara', 'jepang', 'indonesia')\n",
      "brazil\n",
      "jepang\n",
      "amerisya usyara\n",
      "elemen awal:\n",
      "('brazil', 'cina', 'amerisya usyara')\n"
     ]
    },
    {
     "ename": "AttributeError",
     "evalue": "'tuple' object has no attribute 'append'",
     "output_type": "error",
     "traceback": [
      "\u001b[1;31m---------------------------------------------------------------------------\u001b[0m",
      "\u001b[1;31mAttributeError\u001b[0m                            Traceback (most recent call last)",
      "Cell \u001b[1;32mIn[151], line 17\u001b[0m\n\u001b[0;32m     14\u001b[0m \u001b[38;5;28mprint\u001b[39m(\u001b[38;5;124m'\u001b[39m\u001b[38;5;124melemen awal:\u001b[39m\u001b[38;5;124m'\u001b[39m)\n\u001b[0;32m     15\u001b[0m \u001b[38;5;28mprint\u001b[39m(negara)\n\u001b[1;32m---> 17\u001b[0m negara\u001b[38;5;241m.\u001b[39mappend(\u001b[38;5;124m'\u001b[39m\u001b[38;5;124mindonesia\u001b[39m\u001b[38;5;124m'\u001b[39m)\n\u001b[0;32m     18\u001b[0m \u001b[38;5;28mprint\u001b[39m(\u001b[38;5;124m'\u001b[39m\u001b[38;5;130;01m\\n\u001b[39;00m\u001b[38;5;124mSetelah append():\u001b[39m\u001b[38;5;124m'\u001b[39m)\n\u001b[0;32m     19\u001b[0m \u001b[38;5;28mprint\u001b[39m(negara)\n",
      "\u001b[1;31mAttributeError\u001b[0m: 'tuple' object has no attribute 'append'"
     ]
    }
   ],
   "source": [
    "# mengubah tipe list ke tuple\n",
    "\n",
    "negara = 'brazil', 'cina', 'amerisya usyara', \\\n",
    "'jepang', 'indonesia'\n",
    "print(type(negara))\n",
    "\n",
    "print(negara)\n",
    "print(negara[0])\n",
    "print(negara[-2])\n",
    "print(negara[2])\n",
    "\n",
    "# tuple tidak bisa ditambah, kurangi, ubah\n",
    "negara = 'brazil', 'cina', 'amerisya usyara'\n",
    "print('elemen awal:')\n",
    "print(negara)\n",
    "\n",
    "negara.append('indonesia')\n",
    "print('\\nSetelah append():')\n",
    "print(negara)\n"
   ]
  },
  {
   "cell_type": "code",
   "execution_count": 153,
   "id": "92fb4511-a188-4ad0-8770-3641091b7708",
   "metadata": {},
   "outputs": [
    {
     "ename": "AttributeError",
     "evalue": "'tuple' object has no attribute 'remove'",
     "output_type": "error",
     "traceback": [
      "\u001b[1;31m---------------------------------------------------------------------------\u001b[0m",
      "\u001b[1;31mAttributeError\u001b[0m                            Traceback (most recent call last)",
      "Cell \u001b[1;32mIn[153], line 1\u001b[0m\n\u001b[1;32m----> 1\u001b[0m negara\u001b[38;5;241m.\u001b[39mremove(\u001b[38;5;241m1\u001b[39m,\u001b[38;5;124m'\u001b[39m\u001b[38;5;124mbrazil\u001b[39m\u001b[38;5;124m'\u001b[39m)\n\u001b[0;32m      2\u001b[0m \u001b[38;5;28mprint\u001b[39m(\u001b[38;5;124m'\u001b[39m\u001b[38;5;130;01m\\n\u001b[39;00m\u001b[38;5;124mSetelah insert():\u001b[39m\u001b[38;5;124m'\u001b[39m)\n\u001b[0;32m      3\u001b[0m \u001b[38;5;28mprint\u001b[39m(negara)\n",
      "\u001b[1;31mAttributeError\u001b[0m: 'tuple' object has no attribute 'remove'"
     ]
    }
   ],
   "source": [
    "negara.remove(1,'brazil')\n",
    "print('\\nSetelah insert():')\n",
    "print(negara)\n"
   ]
  },
  {
   "cell_type": "code",
   "execution_count": 155,
   "id": "d14dce07-dbaa-4a2c-a930-97d5988ba91d",
   "metadata": {},
   "outputs": [
    {
     "name": "stdout",
     "output_type": "stream",
     "text": [
      "<class 'list'>\n",
      "['brazil', 'cina', 'amerisya usyara', 'jepang', 'indonesia']\n"
     ]
    },
    {
     "ename": "TypeError",
     "evalue": "list indices must be integers or slices, not str",
     "output_type": "error",
     "traceback": [
      "\u001b[1;31m---------------------------------------------------------------------------\u001b[0m",
      "\u001b[1;31mTypeError\u001b[0m                                 Traceback (most recent call last)",
      "Cell \u001b[1;32mIn[155], line 9\u001b[0m\n\u001b[0;32m      6\u001b[0m \u001b[38;5;28mprint\u001b[39m(\u001b[38;5;28mtype\u001b[39m(negara))\n\u001b[0;32m      7\u001b[0m \u001b[38;5;28mprint\u001b[39m(negara)\n\u001b[1;32m----> 9\u001b[0m negara[\u001b[38;5;124m'\u001b[39m\u001b[38;5;124mcina\u001b[39m\u001b[38;5;124m'\u001b[39m] \u001b[38;5;241m=\u001b[39m \u001b[38;5;124m'\u001b[39m\u001b[38;5;124mindia\u001b[39m\u001b[38;5;124m'\u001b[39m\n",
      "\u001b[1;31mTypeError\u001b[0m: list indices must be integers or slices, not str"
     ]
    }
   ],
   "source": [
    "negara = 'brazil', 'cina', 'amerisya usyara', \\\n",
    "'jepang', 'indonesia'\n",
    "negara = ['brazil', 'cina', 'amerisya usyara', \n",
    "'jepang', 'indonesia']\n",
    "\n",
    "print(type(negara))\n",
    "print(negara)\n",
    "\n",
    "negara['cina'] = 'india'"
   ]
  },
  {
   "cell_type": "code",
   "execution_count": 161,
   "id": "af843630-28f7-47da-a632-83a4bd6e2305",
   "metadata": {},
   "outputs": [
    {
     "name": "stdout",
     "output_type": "stream",
     "text": [
      "('brazil', 'cina', 'amerisya usyara', 'jepang', 'indonesia')\n",
      "brazil\n",
      "amerisya usyara\n"
     ]
    }
   ],
   "source": [
    "negara = 'brazil', 'cina', 'amerisya usyara', \\\n",
    "'jepang', 'indonesia'\n",
    "print(negara)\n",
    "print(negara[0])\n",
    "print(negara[-3])"
   ]
  },
  {
   "cell_type": "code",
   "execution_count": 165,
   "id": "cd0a8812-60ed-430f-82bb-77748a9deaf4",
   "metadata": {},
   "outputs": [
    {
     "name": "stdout",
     "output_type": "stream",
     "text": [
      "data tuple:\n",
      "('brazil', 'cina', 'amerisya usyara', 'jepang', 'indonesia')\n",
      "amerisya usyara pada item tuple:\n",
      "True\n",
      "india pada item tuple:\n",
      "False\n"
     ]
    }
   ],
   "source": [
    "negara = 'brazil', 'cina', 'amerisya usyara', \\\n",
    "'jepang', 'indonesia'\n",
    "print('data tuple:')\n",
    "print(negara)\n",
    "\n",
    "print('amerisya usyara pada item tuple:')\n",
    "print('amerisya usyara' in negara)\n",
    "print('india pada item tuple:')\n",
    "print('india' in negara)"
   ]
  }
 ],
 "metadata": {
  "kernelspec": {
   "display_name": "Python 3 (ipykernel)",
   "language": "python",
   "name": "python3"
  },
  "language_info": {
   "codemirror_mode": {
    "name": "ipython",
    "version": 3
   },
   "file_extension": ".py",
   "mimetype": "text/x-python",
   "name": "python",
   "nbconvert_exporter": "python",
   "pygments_lexer": "ipython3",
   "version": "3.12.4"
  }
 },
 "nbformat": 4,
 "nbformat_minor": 5
}
